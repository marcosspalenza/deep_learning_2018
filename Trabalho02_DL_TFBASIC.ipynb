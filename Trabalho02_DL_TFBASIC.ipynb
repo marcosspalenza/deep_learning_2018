{
 "cells": [
  {
   "cell_type": "markdown",
   "metadata": {
    "colab_type": "text",
    "id": "ePI0jxH80_re"
   },
   "source": [
    "# Lista de exercícios sobre TensorFlow - Funcionamento Básico"
   ]
  },
  {
   "cell_type": "markdown",
   "metadata": {
    "colab_type": "text",
    "id": "lib6GP3U0_rf"
   },
   "source": [
    "**Disciplina**: Introdução a Redes Neurais Profundas 2018/1  \n",
    "**Professor**: Jorge Leonid Aching Samatelo"
   ]
  },
  {
   "cell_type": "markdown",
   "metadata": {
    "colab_type": "text",
    "id": "8j4ng8X90_rh"
   },
   "source": [
    "**Aluno**: Marcos A. Spalenza"
   ]
  },
  {
   "cell_type": "markdown",
   "metadata": {
    "colab_type": "text",
    "id": "VkPrDQb40_rh"
   },
   "source": [
    "## Tabela de conteúdos\n",
    "1. [Exercícios sobre Sessões](#exerSessoes)\n",
    "1. [Exercícios sobre Tensores](#exerTensores)"
   ]
  },
  {
   "cell_type": "code",
   "execution_count": null,
   "metadata": {
    "colab": {
     "autoexec": {
      "startup": false,
      "wait_interval": 0
     }
    },
    "colab_type": "code",
    "id": "oNnxNIuL0_rk"
   },
   "outputs": [],
   "source": [
    "import tensorflow as tf\n",
    "import numpy as np\n",
    "import matplotlib.pyplot as plt"
   ]
  },
  {
   "cell_type": "markdown",
   "metadata": {
    "colab_type": "text",
    "id": "RpVPBmC10_rp"
   },
   "source": [
    "## Exercícios sobre sessões <a name=\"exerSessoes\"></a>"
   ]
  },
  {
   "cell_type": "markdown",
   "metadata": {
    "colab_type": "text",
    "id": "GX7sFgt80_rq"
   },
   "source": [
    "### Exe. 1"
   ]
  },
  {
   "cell_type": "markdown",
   "metadata": {
    "colab_type": "text",
    "id": "OmEufr6Y0_rq"
   },
   "source": [
    "Faça um grafo que tenha duas constantes (`tf.constants`) e uma operação de multiplicação. Imprima as imprima as operações criadas (fora de uma sessão).  \n",
    "**Dica**: Você não obterá o valor numerico das operações, mas sim a definição dos tensores."
   ]
  },
  {
   "cell_type": "code",
   "execution_count": 38,
   "metadata": {
    "colab": {
     "autoexec": {
      "startup": false,
      "wait_interval": 0
     },
     "base_uri": "https://localhost:8080/",
     "height": 34
    },
    "colab_type": "code",
    "executionInfo": {
     "elapsed": 589,
     "status": "ok",
     "timestamp": 1526420128326,
     "user": {
      "displayName": "Marcos Spalenza",
      "photoUrl": "//lh4.googleusercontent.com/-ubw9V6dCnss/AAAAAAAAAAI/AAAAAAAAAv8/s847fsUFaZ8/s50-c-k-no/photo.jpg",
      "userId": "103839117086579837524"
     },
     "user_tz": 180
    },
    "id": "A1wTS05R0_rs",
    "outputId": "b6d9c139-936e-4240-bbb4-e56be7ba2765"
   },
   "outputs": [
    {
     "data": {
      "text/plain": [
       "<tf.Tensor 'Mul_27:0' shape=() dtype=int32>"
      ]
     },
     "execution_count": 38,
     "metadata": {
      "tags": []
     },
     "output_type": "execute_result"
    }
   ],
   "source": [
    "import tensorflow as tf\n",
    "\n",
    "tf.reset_default_graph()\n",
    "\n",
    "c1 = tf.constant(10)\n",
    "\n",
    "c2 = tf.constant(5)\n",
    "\n",
    "tf.multiply(c1,c2)"
   ]
  },
  {
   "cell_type": "markdown",
   "metadata": {
    "colab_type": "text",
    "id": "0Atw9Y9i0_rz"
   },
   "source": [
    "### Exe. 2"
   ]
  },
  {
   "cell_type": "markdown",
   "metadata": {
    "colab_type": "text",
    "id": "4QsKAGMK0_r0"
   },
   "source": [
    "Avalie o resultado da multiplicação com uma sessão interativa (`tf.InteractiveSession`).  \n",
    "Note que é necessário fechar a sessão com o método `close` da sessão para que ela libere a memória usada."
   ]
  },
  {
   "cell_type": "code",
   "execution_count": 19,
   "metadata": {
    "colab": {
     "autoexec": {
      "startup": false,
      "wait_interval": 0
     },
     "base_uri": "https://localhost:8080/",
     "height": 34
    },
    "colab_type": "code",
    "executionInfo": {
     "elapsed": 589,
     "status": "ok",
     "timestamp": 1526418468722,
     "user": {
      "displayName": "Marcos Spalenza",
      "photoUrl": "//lh4.googleusercontent.com/-ubw9V6dCnss/AAAAAAAAAAI/AAAAAAAAAv8/s847fsUFaZ8/s50-c-k-no/photo.jpg",
      "userId": "103839117086579837524"
     },
     "user_tz": 180
    },
    "id": "i41peM7Y0_r1",
    "outputId": "17ce3eb7-7749-4216-a148-05792b19c36b"
   },
   "outputs": [
    {
     "name": "stdout",
     "output_type": "stream",
     "text": [
      "50\n"
     ]
    }
   ],
   "source": [
    "import tensorflow as tf\n",
    "\n",
    "tf.reset_default_graph()\n",
    "\n",
    "sess = tf.InteractiveSession()\n",
    "\n",
    "c1 = tf.constant(10)\n",
    "\n",
    "c2 = tf.constant(5)\n",
    "\n",
    "mult = tf.multiply(c1,c2)\n",
    "\n",
    "print(mult.eval())\n",
    "\n",
    "sess.close()"
   ]
  },
  {
   "cell_type": "markdown",
   "metadata": {
    "colab_type": "text",
    "id": "RP1qg9xT0_r8"
   },
   "source": [
    "### Exe. 3"
   ]
  },
  {
   "cell_type": "markdown",
   "metadata": {
    "colab_type": "text",
    "id": "O7-zvbjr0_r8"
   },
   "source": [
    "Avalie agora o resultado da multiplicação com uma sessão em um bloco `with tf.Session() as sess:`.  \n",
    "Note que nesse método a sessão é fechada automaticamente para você."
   ]
  },
  {
   "cell_type": "code",
   "execution_count": 25,
   "metadata": {
    "colab": {
     "autoexec": {
      "startup": false,
      "wait_interval": 0
     },
     "base_uri": "https://localhost:8080/",
     "height": 34
    },
    "colab_type": "code",
    "executionInfo": {
     "elapsed": 629,
     "status": "ok",
     "timestamp": 1526418729160,
     "user": {
      "displayName": "Marcos Spalenza",
      "photoUrl": "//lh4.googleusercontent.com/-ubw9V6dCnss/AAAAAAAAAAI/AAAAAAAAAv8/s847fsUFaZ8/s50-c-k-no/photo.jpg",
      "userId": "103839117086579837524"
     },
     "user_tz": 180
    },
    "id": "8rwBaf_v0_r8",
    "outputId": "6d92bb41-3cc8-4636-a139-34be04eab80f"
   },
   "outputs": [
    {
     "name": "stdout",
     "output_type": "stream",
     "text": [
      "50\n"
     ]
    }
   ],
   "source": [
    "import tensorflow as tf\n",
    "\n",
    "tf.reset_default_graph()\n",
    "\n",
    "c1 = tf.constant(10)\n",
    "\n",
    "c2 = tf.constant(5)\n",
    "\n",
    "\n",
    "with tf.Session() as sess:\n",
    "    print(sess.run(tf.multiply(c1,c2)))"
   ]
  },
  {
   "cell_type": "markdown",
   "metadata": {
    "colab_type": "text",
    "id": "i8gmKKDV0_sA"
   },
   "source": [
    "### Exe. 4\n",
    "\n",
    "Visualize as operações criadas dentro do grafo usando o tensorboard. Para isso utilize\n"
   ]
  },
  {
   "cell_type": "code",
   "execution_count": null,
   "metadata": {
    "colab": {
     "autoexec": {
      "startup": false,
      "wait_interval": 0
     }
    },
    "colab_type": "code",
    "id": "NogHYfLi0_sB"
   },
   "outputs": [],
   "source": [
    "tf.summary.FileWriter('logs', tf.get_default_graph()).close()"
   ]
  },
  {
   "cell_type": "code",
   "execution_count": 50,
   "metadata": {
    "colab": {
     "autoexec": {
      "startup": false,
      "wait_interval": 0
     },
     "base_uri": "https://localhost:8080/",
     "height": 641
    },
    "colab_type": "code",
    "executionInfo": {
     "elapsed": 629,
     "status": "ok",
     "timestamp": 1526420733929,
     "user": {
      "displayName": "Marcos Spalenza",
      "photoUrl": "//lh4.googleusercontent.com/-ubw9V6dCnss/AAAAAAAAAAI/AAAAAAAAAv8/s847fsUFaZ8/s50-c-k-no/photo.jpg",
      "userId": "103839117086579837524"
     },
     "user_tz": 180
    },
    "id": "L4u97kdV0_sC",
    "outputId": "cf0f646f-3a55-4fa8-fb8e-3595765b668b"
   },
   "outputs": [
    {
     "data": {
      "text/html": [
       "\n",
       "        <iframe seamless style=\"width:1200px;height:620px;border:0\" srcdoc=\"\n",
       "        <script>\n",
       "          function load() {\n",
       "            document.getElementById(&quot;graph0.21056466862028&quot;).pbtxt = 'node {\\n  name: &quot;Const&quot;\\n  op: &quot;Const&quot;\\n  attr {\\n    key: &quot;dtype&quot;\\n    value {\\n      type: DT_INT32\\n    }\\n  }\\n  attr {\\n    key: &quot;value&quot;\\n    value {\\n      tensor {\\n        dtype: DT_INT32\\n        tensor_shape {\\n        }\\n        int_val: 10\\n      }\\n    }\\n  }\\n}\\nnode {\\n  name: &quot;Const_1&quot;\\n  op: &quot;Const&quot;\\n  attr {\\n    key: &quot;dtype&quot;\\n    value {\\n      type: DT_INT32\\n    }\\n  }\\n  attr {\\n    key: &quot;value&quot;\\n    value {\\n      tensor {\\n        dtype: DT_INT32\\n        tensor_shape {\\n        }\\n        int_val: 5\\n      }\\n    }\\n  }\\n}\\nnode {\\n  name: &quot;Mul&quot;\\n  op: &quot;Mul&quot;\\n  input: &quot;Const&quot;\\n  input: &quot;Const_1&quot;\\n  attr {\\n    key: &quot;T&quot;\\n    value {\\n      type: DT_INT32\\n    }\\n  }\\n}\\n';\n",
       "          }\n",
       "        </script>\n",
       "        <link rel=&quot;import&quot; href=&quot;https://tensorboard.appspot.com/tf-graph-basic.build.html&quot; onload=load()>\n",
       "        <div style=&quot;height:600px&quot;>\n",
       "          <tf-graph-basic id=&quot;graph0.21056466862028&quot;></tf-graph-basic>\n",
       "        </div>\n",
       "    \"></iframe>\n",
       "    "
      ],
      "text/plain": [
       "<IPython.core.display.HTML object>"
      ]
     },
     "metadata": {
      "tags": []
     },
     "output_type": "display_data"
    }
   ],
   "source": [
    "import tensorflow as tf\n",
    "import numpy as np\n",
    "from IPython.display import clear_output, Image, display, HTML\n",
    "\n",
    "tf.reset_default_graph()\n",
    "\n",
    "'''\n",
    "Reference\n",
    "\n",
    "https://stackoverflow.com/questions/47818822/can-i-use-tensorboard-with-google-colab\n",
    "'''\n",
    "\n",
    "def strip_consts(graph_def, max_const_size=32):\n",
    "    \"\"\"Strip large constant values from graph_def.\"\"\"\n",
    "    strip_def = tf.GraphDef()\n",
    "    for n0 in graph_def.node:\n",
    "        n = strip_def.node.add() \n",
    "        n.MergeFrom(n0)\n",
    "        if n.op == 'Const':\n",
    "            tensor = n.attr['value'].tensor\n",
    "            size = len(tensor.tensor_content)\n",
    "            if size > max_const_size:\n",
    "                tensor.tensor_content = \"<stripped %d bytes>\"%size\n",
    "    return strip_def\n",
    "\n",
    "def show_graph(graph_def, max_const_size=32):\n",
    "    \"\"\"Visualize TensorFlow graph.\"\"\"\n",
    "    if hasattr(graph_def, 'as_graph_def'):\n",
    "        graph_def = graph_def.as_graph_def()\n",
    "    strip_def = strip_consts(graph_def, max_const_size=max_const_size)\n",
    "    code = \"\"\"\n",
    "        <script>\n",
    "          function load() {{\n",
    "            document.getElementById(\"{id}\").pbtxt = {data};\n",
    "          }}\n",
    "        </script>\n",
    "        <link rel=\"import\" href=\"https://tensorboard.appspot.com/tf-graph-basic.build.html\" onload=load()>\n",
    "        <div style=\"height:600px\">\n",
    "          <tf-graph-basic id=\"{id}\"></tf-graph-basic>\n",
    "        </div>\n",
    "    \"\"\".format(data=repr(str(strip_def)), id='graph'+str(np.random.rand()))\n",
    "\n",
    "    iframe = \"\"\"\n",
    "        <iframe seamless style=\"width:1200px;height:620px;border:0\" srcdoc=\"{}\"></iframe>\n",
    "    \"\"\".format(code.replace('\"', '&quot;'))\n",
    "    display(HTML(iframe))\n",
    "    \n",
    "c1 = tf.constant(10)\n",
    "\n",
    "c2 = tf.constant(5)\n",
    "\n",
    "mult = tf.multiply(c1,c2)\n",
    "\n",
    "show_graph(tf.get_default_graph().as_graph_def())"
   ]
  },
  {
   "cell_type": "markdown",
   "metadata": {
    "colab_type": "text",
    "id": "WJqpJRDQ0_sF"
   },
   "source": [
    "## Exercícios sobre tensores <a name=\"exerTensores\"></a>"
   ]
  },
  {
   "cell_type": "markdown",
   "metadata": {
    "colab_type": "text",
    "id": "Qkxv2a5_0_sF"
   },
   "source": [
    "### Exe. 5"
   ]
  },
  {
   "cell_type": "markdown",
   "metadata": {
    "colab_type": "text",
    "id": "xPsMeOBT0_sG"
   },
   "source": [
    "Crie duas matrizes quadradas `A` e `B`, de mesma ordem, utilizando `np.array`. Crie, a partir delas, constantes em TensorFlow e realize o produto matricial `C = A*B`. Verifique as dimensões do resultado com `tf.shape`. \n",
    "\n",
    "Calcule ainda o determinantes delas e verifique que `det(C) = det(A)det(B)`"
   ]
  },
  {
   "cell_type": "code",
   "execution_count": 83,
   "metadata": {
    "colab": {
     "autoexec": {
      "startup": false,
      "wait_interval": 0
     },
     "base_uri": "https://localhost:8080/",
     "height": 68
    },
    "colab_type": "code",
    "executionInfo": {
     "elapsed": 613,
     "status": "ok",
     "timestamp": 1526422084046,
     "user": {
      "displayName": "Marcos Spalenza",
      "photoUrl": "//lh4.googleusercontent.com/-ubw9V6dCnss/AAAAAAAAAAI/AAAAAAAAAv8/s847fsUFaZ8/s50-c-k-no/photo.jpg",
      "userId": "103839117086579837524"
     },
     "user_tz": 180
    },
    "id": "D_Gp3u1q0_sG",
    "outputId": "c7751ab4-ff55-4155-91f0-f69a5de6a5c9"
   },
   "outputs": [
    {
     "name": "stdout",
     "output_type": "stream",
     "text": [
      "[4 4]\n",
      "-0.002858143861632621\n",
      "-0.002858143861632621\n"
     ]
    }
   ],
   "source": [
    "import tensorflow as tf\n",
    "import numpy as np\n",
    "\n",
    "tf.reset_default_graph()\n",
    "\n",
    "mat1 = np.random.random_sample(size=(4,4))\n",
    "mat1_ = tf.constant(mat1)\n",
    "\n",
    "\n",
    "mat2 = np.random.random_sample(size=(4,4))\n",
    "mat2_ = tf.constant(mat2)\n",
    "\n",
    "mult = tf.matmul(mat1_,mat2_)\n",
    "\n",
    "res = []\n",
    "with tf.Session() as sess:\n",
    "    res = sess.run(mult)\n",
    "    print(sess.run(tf.shape(res)))\n",
    "    \n",
    "\n",
    "a, b = np.linalg.det([mat1, mat2])\n",
    "print(a*b)\n",
    "print(np.linalg.det(res))"
   ]
  },
  {
   "cell_type": "markdown",
   "metadata": {
    "colab_type": "text",
    "id": "VSAjj1Fu0_sL"
   },
   "source": [
    "### Exe. 6"
   ]
  },
  {
   "cell_type": "markdown",
   "metadata": {
    "colab_type": "text",
    "id": "oIYe-czs0_sL"
   },
   "source": [
    "Crie tensores com valores aleatórios com as distribuições:\n",
    "\n",
    "1) Uniforme, com valores entre -1 e 1;\n",
    "\n",
    "2) Normal, com média 0 e desvio padrão 1;\n",
    "\n",
    "Ambos com `shape = [50,1]` e plote os histogramas de seus valores. Utilize 10 bins em ambos os casos."
   ]
  },
  {
   "cell_type": "code",
   "execution_count": 52,
   "metadata": {
    "colab": {
     "autoexec": {
      "startup": false,
      "wait_interval": 0
     },
     "base_uri": "https://localhost:8080/",
     "height": 571
    },
    "colab_type": "code",
    "executionInfo": {
     "elapsed": 953,
     "status": "ok",
     "timestamp": 1526678743254,
     "user": {
      "displayName": "Marcos Spalenza",
      "photoUrl": "//lh4.googleusercontent.com/-ubw9V6dCnss/AAAAAAAAAAI/AAAAAAAAAv8/s847fsUFaZ8/s50-c-k-no/photo.jpg",
      "userId": "103839117086579837524"
     },
     "user_tz": 180
    },
    "id": "-toZFqCw0_sM",
    "outputId": "a2d725c0-2c62-4a64-9a33-339a90f5af3c"
   },
   "outputs": [
    {
     "data": {
      "image/png": "[encoded data removed]",
      "text/plain": [
       "<matplotlib.figure.Figure at 0x7f9f61af1e48>"
      ]
     },
     "metadata": {
      "tags": []
     },
     "output_type": "display_data"
    },
    {
     "data": {
      "image/png": "[encoded data removed]",
      "text/plain": [
       "<matplotlib.figure.Figure at 0x7f9f61ab1588>"
      ]
     },
     "metadata": {
      "tags": []
     },
     "output_type": "display_data"
    }
   ],
   "source": [
    "import tensorflow as tf\n",
    "import matplotlib.pyplot as plt\n",
    "%matplotlib inline \n",
    "\n",
    "tf.reset_default_graph()\n",
    "\n",
    "uniform = tf.random_uniform((50, 1), minval=-1, maxval=1)\n",
    "\n",
    "normal = tf.random_normal((50, 1), mean=0, stddev=1,)\n",
    "\n",
    "with tf.Session() as sess:\n",
    "    plt.hist(sess.run(uniform), bins=[(i*2/10)-1 for i in range(10)])\n",
    "    plt.title(\"Uniform\")\n",
    "    plt.xlabel(\"Value\")\n",
    "    plt.ylabel(\"Frequency\")\n",
    "    plt.show()\n",
    "    \n",
    "    norm_= sess.run(normal)\n",
    "    plt.hist(norm_, bins=[min(norm_)[0]+i*((max(norm_)[0]-min(norm_)[0])/10) for i in range(10)])\n",
    "    plt.title(\"Normal\")\n",
    "    plt.xlabel(\"Value\")\n",
    "    plt.ylabel(\"Frequency\")\n",
    "    plt.show()"
   ]
  },
  {
   "cell_type": "markdown",
   "metadata": {
    "colab_type": "text",
    "id": "cj5dBeCz0_sQ"
   },
   "source": [
    "### Exe. 7"
   ]
  },
  {
   "cell_type": "markdown",
   "metadata": {
    "colab_type": "text",
    "id": "aLhrkvbI0_sS"
   },
   "source": [
    "Faça um grafo que calcule os pontos de uma senóide para ser plotada no intervalo `[0,2*pi]`. A equação da senóide é da forma `y = A*sin(w*t)`. Crie nós de entrada `A` e `w` para que os parâmetros sejam recebidos em tempo de execução. "
   ]
  },
  {
   "cell_type": "code",
   "execution_count": 55,
   "metadata": {
    "colab": {
     "autoexec": {
      "startup": false,
      "wait_interval": 0
     },
     "base_uri": "https://localhost:8080/",
     "height": 162
    },
    "colab_type": "code",
    "executionInfo": {
     "elapsed": 903,
     "status": "ok",
     "timestamp": 1526678817245,
     "user": {
      "displayName": "Marcos Spalenza",
      "photoUrl": "//lh4.googleusercontent.com/-ubw9V6dCnss/AAAAAAAAAAI/AAAAAAAAAv8/s847fsUFaZ8/s50-c-k-no/photo.jpg",
      "userId": "103839117086579837524"
     },
     "user_tz": 180
    },
    "id": "JCHSV6wA0_sT",
    "outputId": "e3c15e71-6189-4080-9297-365c2c99f4a9"
   },
   "outputs": [
    {
     "data": {
      "image/png": "[encoded data removed]",
      "text/plain": [
       "<matplotlib.figure.Figure at 0x7f9f6164d588>"
      ]
     },
     "metadata": {
      "tags": []
     },
     "output_type": "display_data"
    }
   ],
   "source": [
    "import tensorflow as tf\n",
    "import numpy as np\n",
    "import matplotlib.pyplot as plt\n",
    "import math\n",
    "%matplotlib inline\n",
    "\n",
    "\n",
    "tf.reset_default_graph()\n",
    "\n",
    "# Model parameters\n",
    "W = tf.Variable(tf.random_normal([1, 1]), name='W')\n",
    "A = tf.Variable(tf.random_normal([1, 1]), name='A')\n",
    "init = tf.global_variables_initializer()\n",
    "\n",
    "# training data\n",
    "t = np.arange(0, math.pi*2, 0.1)\n",
    "linear_model = A*tf.sin(W*t)\n",
    "with tf.Session() as sess:\n",
    "    sess.run(init)\n",
    "    linear_model = sess.run(linear_model)\n",
    "\n",
    "fig = plt.figure(1)\n",
    "\n",
    "ax1 = fig.add_subplot(211)\n",
    "ax1.plot(t, linear_model[0])\n",
    "ax1.grid(True)\n",
    "ax1.set_ylabel('T')\n",
    "ax1.set_title('Senóide')\n",
    "\n",
    "plt.show()"
   ]
  },
  {
   "cell_type": "markdown",
   "metadata": {
    "colab_type": "text",
    "id": "BamuJyD_0_sX"
   },
   "source": [
    "### Exe. 8"
   ]
  },
  {
   "cell_type": "markdown",
   "metadata": {
    "colab_type": "text",
    "id": "QDjBPKKV0_sX"
   },
   "source": [
    "O método de Montecarlo é um método numérico probabilístico muito utilizado em computação. Uma das aplicações é calcular aproximadamente o valor de $\\pi$. Para fazer isto, a sequência de passos deve ser:\n",
    "\n",
    "1) Gere um ponto aleatório $(x,y)$ dentro do quadrado $[-1,1]\\times[-1,1]$, onde cada coordenada tem distribuição uniforme.\n",
    "\n",
    "2) Verifique se o ponto está, ou não, dentro do círculo de raio $1$ e centro na origem.\n",
    "\n",
    "3) Repita os passos 1 e 2 por $n$ iterações, guardando o número de pontos dentro do círculo.\n",
    "\n",
    "4) Aproxime $\\pi$ por $4$ vezes a razão entre o número de pontos que são gerados dentro e o total de pontos gerados. Isto é válido pois o número de pontos dentro do círculo é proporcional à razão das áreas:\n",
    "$$\\frac{A_{circ}}{A_{quad}} = \\frac{\\pi R^2}{4 R^2} = \\frac{\\pi}{4} $$\n",
    "\n",
    "Implemente o método de Montecarlo para esta finalidade em TensorFlow."
   ]
  },
  {
   "cell_type": "code",
   "execution_count": 29,
   "metadata": {
    "colab": {
     "autoexec": {
      "startup": false,
      "wait_interval": 0
     },
     "base_uri": "https://localhost:8080/",
     "height": 34
    },
    "colab_type": "code",
    "executionInfo": {
     "elapsed": 928,
     "status": "ok",
     "timestamp": 1526718039931,
     "user": {
      "displayName": "Marcos Spalenza",
      "photoUrl": "//lh4.googleusercontent.com/-ubw9V6dCnss/AAAAAAAAAAI/AAAAAAAAAv8/s847fsUFaZ8/s50-c-k-no/photo.jpg",
      "userId": "103839117086579837524"
     },
     "user_tz": 180
    },
    "id": "X34zv6xq0_sY",
    "outputId": "6978f371-f525-4d2e-a287-be647ea28485"
   },
   "outputs": [
    {
     "name": "stdout",
     "output_type": "stream",
     "text": [
      "3.04\n"
     ]
    }
   ],
   "source": [
    "import tensorflow as tf\n",
    "\n",
    "tf.reset_default_graph()\n",
    "\n",
    "\n",
    "radius = tf.constant(1., name='r')\n",
    "n = 50\n",
    "x = tf.Variable(tf.random_uniform([n,1]), name='x')\n",
    "y = tf.Variable(tf.random_uniform([n,1]), name='y')\n",
    "init = tf.global_variables_initializer()\n",
    "\n",
    "location = tf.stack([tf.less(tf.sqrt(tf.square(x[i]) + tf.square(y[i])), radius) for i in range(n)])\n",
    "\n",
    "montecarlo = 0\n",
    "with tf.Session() as sess:\n",
    "    sess.run(init)\n",
    "    insiders = sess.run(tf.shape(sess.run(tf.where(location)))[0])\n",
    "    montecarlo = insiders*4/n\n",
    "\n",
    "print(montecarlo)"
   ]
  },
  {
   "cell_type": "markdown",
   "metadata": {
    "colab_type": "text",
    "id": "CGySyjcm0_sb"
   },
   "source": [
    "### Exe. 9"
   ]
  },
  {
   "cell_type": "markdown",
   "metadata": {
    "colab_type": "text",
    "id": "RHV4N4z90_sd"
   },
   "source": [
    "TensorFlow também possui controle de fluxo por meio de condicionais e loops. \n",
    "\n",
    "Implemente um grafo que receba dois valors numéricos e um booleano. Dependendo do valor do booleano, o grafo deve retornar o produto (se `True`) ou a soma (se `False`) dos valores numéricos."
   ]
  },
  {
   "cell_type": "code",
   "execution_count": 2,
   "metadata": {
    "colab": {
     "autoexec": {
      "startup": false,
      "wait_interval": 0
     },
     "base_uri": "https://localhost:8080/",
     "height": 34
    },
    "colab_type": "code",
    "executionInfo": {
     "elapsed": 662,
     "status": "ok",
     "timestamp": 1526771727369,
     "user": {
      "displayName": "Marcos Spalenza",
      "photoUrl": "//lh4.googleusercontent.com/-ubw9V6dCnss/AAAAAAAAAAI/AAAAAAAAAv8/s847fsUFaZ8/s50-c-k-no/photo.jpg",
      "userId": "103839117086579837524"
     },
     "user_tz": 180
    },
    "id": "7Ow2azHi0_sd",
    "outputId": "dd68e2a8-2021-45fc-84cf-db9f470f99a4"
   },
   "outputs": [
    {
     "name": "stdout",
     "output_type": "stream",
     "text": [
      "25\n"
     ]
    }
   ],
   "source": [
    "import tensorflow as tf\n",
    "\n",
    "tf.reset_default_graph()\n",
    "\n",
    "c = tf.constant(False, tf.bool)\n",
    "x = tf.constant(15, name=\"x\")\n",
    "y = tf.constant(10, name=\"y\")\n",
    "\n",
    "if_stm = tf.cond(c, lambda: x*y, lambda: x+y)\n",
    "\n",
    "with tf.Session() as sess:\n",
    "    print(sess.run(if_stm))"
   ]
  },
  {
   "cell_type": "markdown",
   "metadata": {
    "colab_type": "text",
    "id": "1J4H7PfC0_sg"
   },
   "source": [
    "### Exe. 10"
   ]
  },
  {
   "cell_type": "markdown",
   "metadata": {
    "colab_type": "text",
    "id": "ce092dNb0_sg"
   },
   "source": [
    "A sequência de Fibonacci é uma sequência de grande importância na Teoria dos Números. Ela é recursiva, onde o n-ésimo termo é a soma dos dois anteriores.\n",
    "$$ a_n = a_{n-1} + a_{n-2} $$\n",
    "Utilizando loops em TensorFlow, faça um grafo que liste os `n` primeiros termos da sequência de Fibonacci."
   ]
  },
  {
   "cell_type": "code",
   "execution_count": 87,
   "metadata": {
    "colab": {
     "autoexec": {
      "startup": false,
      "wait_interval": 0
     },
     "base_uri": "https://localhost:8080/",
     "height": 187
    },
    "colab_type": "code",
    "executionInfo": {
     "elapsed": 665,
     "status": "ok",
     "timestamp": 1526847119738,
     "user": {
      "displayName": "Marcos Spalenza",
      "photoUrl": "//lh4.googleusercontent.com/-ubw9V6dCnss/AAAAAAAAAAI/AAAAAAAAAv8/s847fsUFaZ8/s50-c-k-no/photo.jpg",
      "userId": "103839117086579837524"
     },
     "user_tz": 180
    },
    "id": "XWtP6_gU0_sh",
    "outputId": "f6d0332a-7409-408f-a9a0-6f41f20c7ece"
   },
   "outputs": [
    {
     "name": "stdout",
     "output_type": "stream",
     "text": [
      "34\n",
      "21\n",
      "13\n",
      "8\n",
      "5\n",
      "3\n",
      "2\n",
      "1\n",
      "1\n",
      "0\n"
     ]
    }
   ],
   "source": [
    "import tensorflow as tf\n",
    "\n",
    "tf.reset_default_graph()\n",
    "\n",
    "n = tf.constant(10)\n",
    "fib_0 = tf.Variable(0, name = \"fib_0\")\n",
    "fib_1 = tf.Variable(1, name = \"fib_1\")\n",
    "fib_numbers = tf.Variable(0, name = \"fib_numbers\")\n",
    "init = tf.global_variables_initializer()\n",
    "\n",
    "cond = lambda fib_numbers, fib_0, fib_1: tf.less(fib_numbers, n)\n",
    "\n",
    "def fib(fib_numbers, fib_0, fib_1):\n",
    "    fib_0 = tf.Print(fib_0, [fib_0])\n",
    "    fib_1 = tf.Print(fib_1, [fib_1])\n",
    "    return tf.add(fib_numbers, 1), fib_1, tf.add(fib_0, fib_1)\n",
    "\n",
    "#body = lambda fib_numbers: tf.add(fib_numbers, fib_numbers+1)\n",
    "\n",
    "loops = tf.stack(tf.while_loop(cond, fib , [fib_numbers, fib_0, fib_1]))\n",
    "\n",
    "with tf.Session() as sess:\n",
    "    sess.run(init)\n",
    "    _, num1, num2 = sess.run(loops)\n",
    "    \n",
    "    while num1!=0:\n",
    "        res = num2-num1\n",
    "        num2 = num1\n",
    "        num1 = res\n",
    "        print(num1)"
   ]
  },
  {
   "cell_type": "markdown",
   "metadata": {
    "colab_type": "text",
    "id": "rl1R1VXh0_sk"
   },
   "source": [
    "### Exe. 11"
   ]
  },
  {
   "cell_type": "markdown",
   "metadata": {
    "colab_type": "text",
    "id": "lNGh5GkT0_sl"
   },
   "source": [
    "Equações diferenciais modelam fenômenos em todas as áreas da engenharia. Uma aplicação fundamental é na análise transitória de circuitos elétricos RL, RC e RLC. \n",
    "\n",
    "Um circuito RLC pode ser modelado como uma equação diferencial ordinária (EDO) de segunda ordem. Para um circuito RLC série, em termos da tensão no capacitor:\n",
    "$$\n",
    "\\frac{d^2v_C(t)}{dt^2} + \\frac{R}{L}\\frac{dv_C(t)}{dt} + \\frac{v_C(t)}{LC} = \\frac{E}{LC}\n",
    "$$\n",
    "onde:\n",
    "\n",
    "R = resistência (Ohms);\n",
    "\n",
    "L = indutância (Henrys);\n",
    "\n",
    "C = capacitância (Farads);\n",
    "\n",
    "E = fonte de tensão (Volts).\n",
    "\n",
    "Implemente um grafo que resolva esta EDO para condições iniciais quaisquer dadas.\n",
    "\n",
    "**Dica:** A função nativa `tf.contrib.integrate.odeint()` resolve apenas EDO's (ou sistemas de EDO's) de primeira ordem. Entretanto, toda EDO de ordem superior pode ser reduzida a sistemas de primeira ordem."
   ]
  },
  {
   "cell_type": "code",
   "execution_count": 141,
   "metadata": {
    "colab": {
     "autoexec": {
      "startup": false,
      "wait_interval": 0
     },
     "base_uri": "https://localhost:8080/",
     "height": 284
    },
    "colab_type": "code",
    "executionInfo": {
     "elapsed": 2128,
     "status": "ok",
     "timestamp": 1526688807954,
     "user": {
      "displayName": "Marcos Spalenza",
      "photoUrl": "//lh4.googleusercontent.com/-ubw9V6dCnss/AAAAAAAAAAI/AAAAAAAAAv8/s847fsUFaZ8/s50-c-k-no/photo.jpg",
      "userId": "103839117086579837524"
     },
     "user_tz": 180
    },
    "id": "tK1H1LvM0_sl",
    "outputId": "71748a20-8a23-46af-df08-46420808acde"
   },
   "outputs": [
    {
     "data": {
      "text/plain": [
       "[<matplotlib.lines.Line2D at 0x7f9f51c098d0>]"
      ]
     },
     "execution_count": 141,
     "metadata": {
      "tags": []
     },
     "output_type": "execute_result"
    },
    {
     "data": {
      "image/png": "[encoded data removed]",
      "text/plain": [
       "<matplotlib.figure.Figure at 0x7f9f52316d68>"
      ]
     },
     "metadata": {
      "tags": []
     },
     "output_type": "display_data"
    }
   ],
   "source": [
    "import tensorflow as tf\n",
    "import numpy as np\n",
    "import matplotlib.pyplot as plt\n",
    "%matplotlib inline\n",
    "\n",
    "tf.reset_default_graph()\n",
    "\n",
    "\"\"\"\n",
    "\n",
    "(a*d^2/dt) + (bdx / dt) + x = f \n",
    "\n",
    "x_1 = x\n",
    "\n",
    "x_2 = dx/dt = dx_1/t\n",
    "\n",
    "1) dx_1/dt = x_2\n",
    "\n",
    "u dx_2/dt +bx_2 + c_1 = f\n",
    "\n",
    "2) \n",
    "dx_2 = x_1 * c/u - x_2 * b / u + f\n",
    "\n",
    "[dx_1/dt, dx_2/dt ] = [x_2,  -c/ux_1 -b/ux_2 + f]\n",
    "\"\"\"\n",
    "\n",
    "E = 12\n",
    "R = 1\n",
    "L = 0.1\n",
    "C = 0.01\n",
    "\n",
    "\n",
    "u = 1\n",
    "b = R/L\n",
    "c = 1/(L*C)\n",
    "f = E/(L*C)\n",
    "\n",
    "def diff_resolution(state, t):\n",
    "  x1, x2 = tf.unstack(state)\n",
    "  dx1 = x2\n",
    "  dx2 = (-c/u*x1)-(b/u*x2)+f\n",
    "  return tf.stack([dx1, dx2])\n",
    "\n",
    "init_state = tf.constant([0, 0], dtype=tf.float64)\n",
    "t = np.linspace(0, 3, num=5000)\n",
    "tensor_state, tensor_info = tf.contrib.integrate.odeint(diff_resolution, init_state, t, full_output=True)\n",
    "\n",
    "sess = tf.Session()\n",
    "state, info = sess.run([tensor_state, tensor_info])\n",
    "x1, x2 = state.T\n",
    "plt.plot(t, x1)"
   ]
  }
 ],
 "metadata": {
  "colab": {
   "collapsed_sections": [],
   "default_view": {},
   "name": "ListaExerciciosTensorFlow.ipynb",
   "provenance": [],
   "version": "0.3.2",
   "views": {}
  },
  "kernelspec": {
   "display_name": "Python 3 (ipykernel)",
   "language": "python",
   "name": "python3"
  },
  "language_info": {
   "codemirror_mode": {
    "name": "ipython",
    "version": 3
   },
   "file_extension": ".py",
   "mimetype": "text/x-python",
   "name": "python",
   "nbconvert_exporter": "python",
   "pygments_lexer": "ipython3",
   "version": "3.8.10"
  }
 },
 "nbformat": 4,
 "nbformat_minor": 4
}
