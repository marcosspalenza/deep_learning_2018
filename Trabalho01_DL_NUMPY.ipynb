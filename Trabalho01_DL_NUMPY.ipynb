{
 "cells": [
  {
   "cell_type": "markdown",
   "metadata": {
    "colab_type": "text",
    "id": "Q2FVNzJIz-lU"
   },
   "source": [
    "# Lista de exercícios sobre libraria Numpy"
   ]
  },
  {
   "cell_type": "markdown",
   "metadata": {
    "colab_type": "text",
    "id": "f2irilIxz-lW"
   },
   "source": [
    "<br/>**Disciplina**: Introdução a Redes Neurais Profundas 2018/1\n",
    "<br/>**Professor**: Jorge Leonid Aching Samatelo"
   ]
  },
  {
   "cell_type": "markdown",
   "metadata": {
    "colab_type": "text",
    "id": "CfMjYnGzz-lX"
   },
   "source": [
    "**Aluno**: Marcos A. Spalenza"
   ]
  },
  {
   "cell_type": "markdown",
   "metadata": {
    "colab_type": "text",
    "id": "hcmQPSemz-lX"
   },
   "source": [
    "## Tabela de conteúdos\n",
    "1. [Exercícios sobre Numpy](#ExerNumpy)\n",
    "1. [Exercícios de Programação](#ExerProgramacao)"
   ]
  },
  {
   "cell_type": "markdown",
   "metadata": {
    "colab_type": "text",
    "id": "oMbl0lylz-la"
   },
   "source": [
    "## Exercícios sobre Numpy <a name=\"ExerString\"></a>"
   ]
  },
  {
   "cell_type": "markdown",
   "metadata": {
    "colab_type": "text",
    "id": "Uou0mP7fz-la"
   },
   "source": [
    "## Exe. 1\n",
    "Crie uma matriz nxn com valores 1,2,...,n-1 logo abaixo da diagonal.\n",
    "\n",
    "Exemplo: Considerando n = 4.\n",
    "```\n",
    "A = [0 0 0 0 0]\n",
    "    [1 0 0 0 0]\n",
    "    [0 2 0 0 0]\n",
    "    [0 0 3 0 0]\n",
    "    [0 0 0 4 0]\n",
    "```"
   ]
  },
  {
   "cell_type": "code",
   "execution_count": 195,
   "metadata": {
    "colab": {
     "autoexec": {
      "startup": false,
      "wait_interval": 0
     },
     "base_uri": "https://localhost:8080/",
     "height": 102
    },
    "colab_type": "code",
    "executionInfo": {
     "elapsed": 594,
     "status": "ok",
     "timestamp": 1524701408307,
     "user": {
      "displayName": "Marcos Spalenza",
      "photoUrl": "//lh4.googleusercontent.com/-ubw9V6dCnss/AAAAAAAAAAI/AAAAAAAAAv8/s847fsUFaZ8/s50-c-k-no/photo.jpg",
      "userId": "103839117086579837524"
     },
     "user_tz": 180
    },
    "id": "q2ft6hHLz-la",
    "outputId": "ae23569d-c1fb-4b50-f6e0-0784174fd4db"
   },
   "outputs": [
    {
     "name": "stdout",
     "output_type": "stream",
     "text": [
      "[[0. 0. 0. 0. 0.]\n",
      " [1. 0. 0. 0. 0.]\n",
      " [0. 2. 0. 0. 0.]\n",
      " [0. 0. 3. 0. 0.]\n",
      " [0. 0. 0. 4. 0.]]\n"
     ]
    }
   ],
   "source": [
    "import numpy as np\n",
    "\n",
    "n = 4\n",
    "mat = np.zeros((n+1,n+1))\n",
    "\n",
    "pos = [(i1, i2) for i1 in range(np.shape(mat)[0]) for i2 in range(np.shape(mat)[1])  if i1-1 == i2]\n",
    "\n",
    "for p1, p2 in pos:\n",
    "  mat[p1, p2] = p1\n",
    "\n",
    "print(mat)"
   ]
  },
  {
   "cell_type": "markdown",
   "metadata": {
    "colab_type": "text",
    "id": "nchi-c0Qz-le"
   },
   "source": [
    "## Exe. 2\n",
    "Crie uma matriz nxn com 1 na borda e 0 dentro.\n",
    "\n",
    "Exemplo: Considerando n = 10.\n",
    "```\n",
    "Z = [ 1.  1.  1.  1.  1.  1.  1.  1.  1.  1.]\n",
    "    [ 1.  0.  0.  0.  0.  0.  0.  0.  0.  1.]\n",
    "    [ 1.  0.  0.  0.  0.  0.  0.  0.  0.  1.]\n",
    "    [ 1.  0.  0.  0.  0.  0.  0.  0.  0.  1.]\n",
    "    [ 1.  0.  0.  0.  0.  0.  0.  0.  0.  1.]\n",
    "    [ 1.  0.  0.  0.  0.  0.  0.  0.  0.  1.]\n",
    "    [ 1.  0.  0.  0.  0.  0.  0.  0.  0.  1.]\n",
    "    [ 1.  0.  0.  0.  0.  0.  0.  0.  0.  1.]\n",
    "    [ 1.  0.  0.  0.  0.  0.  0.  0.  0.  1.]\n",
    "    [ 1.  1.  1.  1.  1.  1.  1.  1.  1.  1.]\n",
    "```"
   ]
  },
  {
   "cell_type": "code",
   "execution_count": 196,
   "metadata": {
    "colab": {
     "autoexec": {
      "startup": false,
      "wait_interval": 0
     },
     "base_uri": "https://localhost:8080/",
     "height": 187
    },
    "colab_type": "code",
    "executionInfo": {
     "elapsed": 784,
     "status": "ok",
     "timestamp": 1524701409161,
     "user": {
      "displayName": "Marcos Spalenza",
      "photoUrl": "//lh4.googleusercontent.com/-ubw9V6dCnss/AAAAAAAAAAI/AAAAAAAAAv8/s847fsUFaZ8/s50-c-k-no/photo.jpg",
      "userId": "103839117086579837524"
     },
     "user_tz": 180
    },
    "id": "tdxEAXqmz-lf",
    "outputId": "a75d34f1-92f5-483d-b5e3-d8af74a0cbc8"
   },
   "outputs": [
    {
     "name": "stdout",
     "output_type": "stream",
     "text": [
      "[[1. 1. 1. 1. 1. 1. 1. 1. 1. 1.]\n",
      " [1. 0. 0. 0. 0. 0. 0. 0. 0. 1.]\n",
      " [1. 0. 0. 0. 0. 0. 0. 0. 0. 1.]\n",
      " [1. 0. 0. 0. 0. 0. 0. 0. 0. 1.]\n",
      " [1. 0. 0. 0. 0. 0. 0. 0. 0. 1.]\n",
      " [1. 0. 0. 0. 0. 0. 0. 0. 0. 1.]\n",
      " [1. 0. 0. 0. 0. 0. 0. 0. 0. 1.]\n",
      " [1. 0. 0. 0. 0. 0. 0. 0. 0. 1.]\n",
      " [1. 0. 0. 0. 0. 0. 0. 0. 0. 1.]\n",
      " [1. 1. 1. 1. 1. 1. 1. 1. 1. 1.]]\n"
     ]
    }
   ],
   "source": [
    "import numpy as np\n",
    "\n",
    "n = 10\n",
    "\n",
    "mat = np.zeros((n,n))\n",
    "\n",
    "mat[0, :]  = np.ones(n)\n",
    "mat[:, 0] = np.ones(n)\n",
    "mat[-1, :] = np.ones(n)\n",
    "mat[:, -1] = np.ones(n)\n",
    "\n",
    "print(mat)"
   ]
  },
  {
   "cell_type": "markdown",
   "metadata": {
    "colab_type": "text",
    "id": "n1TDIUNGz-lh"
   },
   "source": [
    "## Exe. 3\n",
    "Crie uma matriz nxn, com n par, e preenchê-lo com um padrão de xadrez.\n",
    "\n",
    "Exemplo: Considerando n = 8.\n",
    "```\n",
    "Z = [0 1 0 1 0 1 0 1]\n",
    "    [1 0 1 0 1 0 1 0]\n",
    "    [0 1 0 1 0 1 0 1]\n",
    "    [1 0 1 0 1 0 1 0]\n",
    "    [0 1 0 1 0 1 0 1]\n",
    "    [1 0 1 0 1 0 1 0]\n",
    "    [0 1 0 1 0 1 0 1]\n",
    "    [1 0 1 0 1 0 1 0]\n",
    "```"
   ]
  },
  {
   "cell_type": "code",
   "execution_count": 197,
   "metadata": {
    "colab": {
     "autoexec": {
      "startup": false,
      "wait_interval": 0
     },
     "base_uri": "https://localhost:8080/",
     "height": 170
    },
    "colab_type": "code",
    "executionInfo": {
     "elapsed": 524,
     "status": "ok",
     "timestamp": 1524701409771,
     "user": {
      "displayName": "Marcos Spalenza",
      "photoUrl": "//lh4.googleusercontent.com/-ubw9V6dCnss/AAAAAAAAAAI/AAAAAAAAAv8/s847fsUFaZ8/s50-c-k-no/photo.jpg",
      "userId": "103839117086579837524"
     },
     "user_tz": 180
    },
    "id": "c26mqWgWz-li",
    "outputId": "47b6d297-fdbc-4b61-a4e9-666459fe6b4d"
   },
   "outputs": [
    {
     "name": "stdout",
     "output_type": "stream",
     "text": [
      "[[0. 1. 0. 1. 0. 1. 0. 1. 0.]\n",
      " [1. 0. 1. 0. 1. 0. 1. 0. 1.]\n",
      " [0. 1. 0. 1. 0. 1. 0. 1. 0.]\n",
      " [1. 0. 1. 0. 1. 0. 1. 0. 1.]\n",
      " [0. 1. 0. 1. 0. 1. 0. 1. 0.]\n",
      " [1. 0. 1. 0. 1. 0. 1. 0. 1.]\n",
      " [0. 1. 0. 1. 0. 1. 0. 1. 0.]\n",
      " [1. 0. 1. 0. 1. 0. 1. 0. 1.]\n",
      " [0. 1. 0. 1. 0. 1. 0. 1. 0.]]\n"
     ]
    }
   ],
   "source": [
    "import numpy as np\n",
    "\n",
    "n = 9\n",
    "\n",
    "mat = np.zeros((n,n))\n",
    "\n",
    "for ind, val in np.ndenumerate(mat):\n",
    "    i, j = ind\n",
    "    if i % 2 != 0 and j % 2 == 0:\n",
    "        mat[i, j] = 1\n",
    "    elif i % 2 == 0 and j % 2 != 0:\n",
    "        mat[i, j] = 1\n",
    "\n",
    "print(mat)"
   ]
  },
  {
   "cell_type": "markdown",
   "metadata": {
    "colab_type": "text",
    "id": "uWm7BO8rz-lk"
   },
   "source": [
    "## Exe. 4\n",
    "Criar um vetor de tamanho 10 inicializada com valores entre $<0,1>$.\n",
    "\n",
    "Exemplo:\n",
    "```\n",
    "Z= [0.091 0.181 0.272 0.363 0.454 0.545 0.636 0.727 0.818 0.909]\n",
    "```"
   ]
  },
  {
   "cell_type": "code",
   "execution_count": 198,
   "metadata": {
    "colab": {
     "autoexec": {
      "startup": false,
      "wait_interval": 0
     },
     "base_uri": "https://localhost:8080/",
     "height": 51
    },
    "colab_type": "code",
    "executionInfo": {
     "elapsed": 531,
     "status": "ok",
     "timestamp": 1524701410385,
     "user": {
      "displayName": "Marcos Spalenza",
      "photoUrl": "//lh4.googleusercontent.com/-ubw9V6dCnss/AAAAAAAAAAI/AAAAAAAAAv8/s847fsUFaZ8/s50-c-k-no/photo.jpg",
      "userId": "103839117086579837524"
     },
     "user_tz": 180
    },
    "id": "eukI8uyDz-ll",
    "outputId": "b34ee121-5f10-4a05-d713-99c452381e74"
   },
   "outputs": [
    {
     "name": "stdout",
     "output_type": "stream",
     "text": [
      "[0.00493124 0.68814509 0.15155579 0.55918507 0.65639088 0.64140309\n",
      " 0.72668765 0.28712461 0.3369292  0.8201086 ]\n"
     ]
    }
   ],
   "source": [
    "import numpy as np\n",
    "\n",
    "arr = np.random.rand(10)\n",
    "\n",
    "print(arr)"
   ]
  },
  {
   "cell_type": "markdown",
   "metadata": {
    "colab_type": "text",
    "id": "ACiwuUtjz-ln"
   },
   "source": [
    "## Exe. 5\n",
    "Dado um array, negar todos os elementos que estão entre 3 e 8.\n",
    "\n",
    "Exemplo:\n",
    "```\n",
    "Zorg =  [ 0  1  2  3  4  5  6  7  8  9 10]\n",
    "Ztrf =  [ 0  1  2  3 -4 -5 -6 -7 -8  9 10]\n",
    "```"
   ]
  },
  {
   "cell_type": "code",
   "execution_count": 199,
   "metadata": {
    "colab": {
     "autoexec": {
      "startup": false,
      "wait_interval": 0
     },
     "base_uri": "https://localhost:8080/",
     "height": 34
    },
    "colab_type": "code",
    "executionInfo": {
     "elapsed": 606,
     "status": "ok",
     "timestamp": 1524701411057,
     "user": {
      "displayName": "Marcos Spalenza",
      "photoUrl": "//lh4.googleusercontent.com/-ubw9V6dCnss/AAAAAAAAAAI/AAAAAAAAAv8/s847fsUFaZ8/s50-c-k-no/photo.jpg",
      "userId": "103839117086579837524"
     },
     "user_tz": 180
    },
    "id": "NH33Or7Dz-lo",
    "outputId": "62f56c3c-d104-4636-b85c-11577b6d19eb"
   },
   "outputs": [
    {
     "name": "stdout",
     "output_type": "stream",
     "text": [
      "[ 0  1  2  3 -4 -5 -6 -7 -8  9 10]\n"
     ]
    }
   ],
   "source": [
    "import numpy as np\n",
    "negate = ((3, 8))\n",
    "\n",
    "z_org = [ 0, 1, 2, 3, 4, 5, 6, 7, 8, 9, 10]\n",
    "z_trf = np.array(z_org)\n",
    "z_trf[np.logical_and(z_trf>3, z_trf<=8)] *= -1\n",
    "print(z_trf)"
   ]
  },
  {
   "cell_type": "markdown",
   "metadata": {
    "colab_type": "text",
    "id": "fncqctmJz-lq"
   },
   "source": [
    "## Exe. 6\n",
    "Extraia a parte inteira de uma array de números aleatórios entre  1.0 e 10.0 usando 5 métodos diferentes.\n",
    "\n",
    "Exemplo (para um caso):\n",
    "```\n",
    "Z  =  [7.497 6.573 9.946 2.645 2.501 8.911 4.301 9.643 4.361 4.128]\n",
    "Z1 =  [ 7.  6.  9.  2.  2.  8.  4.  9.  4.  4.]\n",
    "```"
   ]
  },
  {
   "cell_type": "code",
   "execution_count": 200,
   "metadata": {
    "colab": {
     "autoexec": {
      "startup": false,
      "wait_interval": 0
     },
     "base_uri": "https://localhost:8080/",
     "height": 136
    },
    "colab_type": "code",
    "executionInfo": {
     "elapsed": 560,
     "status": "ok",
     "timestamp": 1524701411710,
     "user": {
      "displayName": "Marcos Spalenza",
      "photoUrl": "//lh4.googleusercontent.com/-ubw9V6dCnss/AAAAAAAAAAI/AAAAAAAAAv8/s847fsUFaZ8/s50-c-k-no/photo.jpg",
      "userId": "103839117086579837524"
     },
     "user_tz": 180
    },
    "id": "aedARwmlz-lv",
    "outputId": "e282c929-bf70-4fb3-c87d-52c843dc46ac"
   },
   "outputs": [
    {
     "name": "stdout",
     "output_type": "stream",
     "text": [
      "[8.46885266 9.22710485 7.9773686  3.67981562 4.88907834 1.75860873\n",
      " 9.04189458 2.5877862  9.36001627 5.98292564]\n",
      "[8 9 7 3 4 1 9 2 9 5]\n",
      "[8. 9. 7. 3. 4. 1. 9. 2. 9. 5.]\n",
      "[8. 9. 7. 3. 4. 1. 9. 2. 9. 5.]\n",
      "[8. 9. 7. 3. 4. 1. 9. 2. 9. 5.]\n",
      "[8. 9. 7. 3. 4. 1. 9. 2. 9. 5.]\n"
     ]
    }
   ],
   "source": [
    "import numpy as np\n",
    "n = 10\n",
    "z = np.random.uniform(1.0, 10.0, size=n)\n",
    "\n",
    "print(z)\n",
    "\n",
    "# modo1\n",
    "print(z.astype(int))\n",
    "\n",
    "# modo2\n",
    "print(np.trunc(z))\n",
    "\n",
    "# modo 3\n",
    "print(np.floor(z))\n",
    "\n",
    "# modo 4\n",
    "print(np.divmod(z, 1)[0])\n",
    "\n",
    "# modo 5\n",
    "print(np.modf(z)[1])"
   ]
  },
  {
   "cell_type": "markdown",
   "metadata": {
    "colab_type": "text",
    "id": "Ql6FMJMcz-l0"
   },
   "source": [
    "## Exe. 7\n",
    "Considere dois arrays $A$ e $B$ aleatórios inicializados com valores aleatorios inteiros, verifique se eles são iguais.\n",
    "\n",
    "Exemplo:\n",
    "```\n",
    "A =  [2 2 0 2 1]\n",
    "B =  [1 0 2 3 3]\n",
    "False\n",
    "```"
   ]
  },
  {
   "cell_type": "code",
   "execution_count": 201,
   "metadata": {
    "colab": {
     "autoexec": {
      "startup": false,
      "wait_interval": 0
     },
     "base_uri": "https://localhost:8080/",
     "height": 68
    },
    "colab_type": "code",
    "executionInfo": {
     "elapsed": 532,
     "status": "ok",
     "timestamp": 1524701412314,
     "user": {
      "displayName": "Marcos Spalenza",
      "photoUrl": "//lh4.googleusercontent.com/-ubw9V6dCnss/AAAAAAAAAAI/AAAAAAAAAv8/s847fsUFaZ8/s50-c-k-no/photo.jpg",
      "userId": "103839117086579837524"
     },
     "user_tz": 180
    },
    "id": "E7AcVZ1az-l0",
    "outputId": "173054be-6ccb-44bf-f269-43caef742cb7"
   },
   "outputs": [
    {
     "name": "stdout",
     "output_type": "stream",
     "text": [
      "[8 5 5 2 7]\n",
      "[3 3 6 0 0]\n",
      "False\n"
     ]
    }
   ],
   "source": [
    "import numpy as np\n",
    "\n",
    "n = 5\n",
    "max_, min_ = (0, 10)\n",
    "a = np.random.randint(max_, min_, size=n)\n",
    "b = np.random.randint(max_, min_, size=n)\n",
    "\n",
    "print(a)\n",
    "print(b)\n",
    "print(False not in np.equal(a,b))"
   ]
  },
  {
   "cell_type": "markdown",
   "metadata": {
    "colab_type": "text",
    "id": "JqFAEwXqz-l_"
   },
   "source": [
    "## Exe. 8\n",
    "Considere uma matriz aleatória de 10x2 que representa coordenadas cartesianas, converta-as em coordenadas polares."
   ]
  },
  {
   "cell_type": "code",
   "execution_count": 210,
   "metadata": {
    "colab": {
     "autoexec": {
      "startup": false,
      "wait_interval": 0
     },
     "base_uri": "https://localhost:8080/",
     "height": 204
    },
    "colab_type": "code",
    "executionInfo": {
     "elapsed": 848,
     "status": "ok",
     "timestamp": 1524701609601,
     "user": {
      "displayName": "Marcos Spalenza",
      "photoUrl": "//lh4.googleusercontent.com/-ubw9V6dCnss/AAAAAAAAAAI/AAAAAAAAAv8/s847fsUFaZ8/s50-c-k-no/photo.jpg",
      "userId": "103839117086579837524"
     },
     "user_tz": 180
    },
    "id": "4MojuHeSz-l_",
    "outputId": "c2341ff0-36b6-4445-ea4a-4a78f842bada"
   },
   "outputs": [
    {
     "name": "stdout",
     "output_type": "stream",
     "text": [
      "[[  4  -6]\n",
      " [ -2   6]\n",
      " [  1   0]\n",
      " [  7   9]\n",
      " [ -1  -5]\n",
      " [ -4  -6]\n",
      " [ -3  -4]\n",
      " [  2 -10]\n",
      " [  8   8]\n",
      " [-10   1]]\n",
      "[(7.211, -56.31), (6.325, -71.565), (1.0, 0), (11.402, 52.125), (5.099, 78.69), (7.211, 56.31), (5.0, 53.13), (10.198, -78.69), (11.314, 45.0), (10.05, -5.711)]\n"
     ]
    }
   ],
   "source": [
    "\n",
    "import numpy as np\n",
    "\n",
    "def polar_coord(x, y):\n",
    "    r = (x ** 2 + y ** 2) ** .5\n",
    "    if y == 0:\n",
    "        degree_ = 180 if x < 0 else 0\n",
    "    elif x == 0:\n",
    "        degree_ = 90 if y > 0 else 270\n",
    "    else:\n",
    "      degree_ = np.degrees(np.arctan(float(y) / x))\n",
    "    return round(r,3), round(degree_,3)\n",
    "\n",
    "n = (10, 2)\n",
    "max_, min_ = (-10, 10)\n",
    "\n",
    "coord = np.array(np.random.randint(max_, min_, size=n))\n",
    "\n",
    "print(coord)\n",
    "print([polar_coord(round(x, 3), round(y, 3)) for x, y in coord])"
   ]
  },
  {
   "cell_type": "markdown",
   "metadata": {
    "colab_type": "text",
    "id": "AoXVRzb7z-mC"
   },
   "source": [
    "## Exe. 9\n",
    "Considere o vetor [1, 2, 3, 4, 5], como construir um novo vetor com 3 zeros consecutivos intercalados entre cada valor.\n",
    "\n",
    "Exemplo:\n",
    "```\n",
    "Zorg =  [1 2 3 4 5]\n",
    "Z000 =  [ 1.  0.  0.  0.  2.  0.  0.  0.  3.  0.  0.  0.  4.  0.  0.  0.  5.]\n",
    "```"
   ]
  },
  {
   "cell_type": "code",
   "execution_count": 203,
   "metadata": {
    "colab": {
     "autoexec": {
      "startup": false,
      "wait_interval": 0
     },
     "base_uri": "https://localhost:8080/",
     "height": 34
    },
    "colab_type": "code",
    "executionInfo": {
     "elapsed": 550,
     "status": "ok",
     "timestamp": 1524701413629,
     "user": {
      "displayName": "Marcos Spalenza",
      "photoUrl": "//lh4.googleusercontent.com/-ubw9V6dCnss/AAAAAAAAAAI/AAAAAAAAAv8/s847fsUFaZ8/s50-c-k-no/photo.jpg",
      "userId": "103839117086579837524"
     },
     "user_tz": 180
    },
    "id": "h5vXSRrYz-mE",
    "outputId": "9ce3b9ef-f2d9-49de-d9b9-ff81bf8eaa08"
   },
   "outputs": [
    {
     "name": "stdout",
     "output_type": "stream",
     "text": [
      "[1 0 0 0 2 0 0 0 3 0 0 0 4 0 0 0 5]\n"
     ]
    }
   ],
   "source": [
    "import numpy as np\n",
    "\n",
    "z_org = np.array([1, 2, 3, 4, 5])\n",
    "\n",
    "for i in reversed(range(z_org.shape[0])):\n",
    "    if i != 0:\n",
    "        z_org = np.insert(z_org, i, np.zeros(3))\n",
    "print(z_org)"
   ]
  },
  {
   "cell_type": "markdown",
   "metadata": {
    "colab_type": "text",
    "id": "7T31BHtSz-mG"
   },
   "source": [
    "## Exe. 10\n",
    "Encontre o valor mais próximo de um dado valor em um array.\n",
    "\n",
    "Exemplo:\n",
    "```\n",
    "Z =  [0.198 0.825 0.057 0.695 0.0333 0.793 0.526 0.547 0.787  0.656]\n",
    "valor =  0.5\n",
    "valor proximo em Z = 0.526929001754\n",
    "```"
   ]
  },
  {
   "cell_type": "code",
   "execution_count": 204,
   "metadata": {
    "colab": {
     "autoexec": {
      "startup": false,
      "wait_interval": 0
     },
     "base_uri": "https://localhost:8080/",
     "height": 68
    },
    "colab_type": "code",
    "executionInfo": {
     "elapsed": 541,
     "status": "ok",
     "timestamp": 1524701414234,
     "user": {
      "displayName": "Marcos Spalenza",
      "photoUrl": "//lh4.googleusercontent.com/-ubw9V6dCnss/AAAAAAAAAAI/AAAAAAAAAv8/s847fsUFaZ8/s50-c-k-no/photo.jpg",
      "userId": "103839117086579837524"
     },
     "user_tz": 180
    },
    "id": "BORtYyBvz-mI",
    "outputId": "51b893e7-1842-4421-abb2-af472abf5bda"
   },
   "outputs": [
    {
     "name": "stdout",
     "output_type": "stream",
     "text": [
      "[0.198  0.825  0.057  0.695  0.0333 0.793  0.526  0.547  0.787  0.656 ]\n",
      "Valor = 0.5\n",
      "Valor mais próximo de 0.5 é 0.526\n"
     ]
    }
   ],
   "source": [
    "import numpy as np\n",
    "\n",
    "value = 0.5\n",
    "\n",
    "#arr = np.random.rand(10)\n",
    "\n",
    "arr = np.array([0.198, 0.825, 0.057, 0.695, 0.0333, 0.793, 0.526, 0.547, 0.787, 0.656])\n",
    "\n",
    "print(arr)\n",
    "print(\"Valor = \"+str(value))\n",
    "print(\"Valor mais próximo de \"+str(value)+\" é \"+str(arr[np.abs(arr-value).argmin()]))"
   ]
  },
  {
   "cell_type": "markdown",
   "metadata": {
    "colab_type": "text",
    "id": "nQVgqqzCz-mN"
   },
   "source": [
    "## Exercícios de Programação <a name=\"ExerProgramacao\"></a>"
   ]
  },
  {
   "cell_type": "markdown",
   "metadata": {
    "colab_type": "text",
    "id": "MyqMbt-sz-mP"
   },
   "source": [
    "## Exe. 1\n",
    "\n",
    "Como encontrar o valor mais freqüente em um array?\n",
    "\n",
    "Exemplo:\n",
    "```\n",
    "Z = [8 1 8 1 9 6 2 7 0 1 7 1 6 7 9 6 0 2 1 9 8 9 0 6 9 7 1 4 2 8 1 6 4 6 1 3 5 0 1 1 5 5 0 9 4 9 9 1 1 2]\n",
    "ValMoreFreq = 1\n",
    "```"
   ]
  },
  {
   "cell_type": "code",
   "execution_count": 205,
   "metadata": {
    "colab": {
     "autoexec": {
      "startup": false,
      "wait_interval": 0
     },
     "base_uri": "https://localhost:8080/",
     "height": 34
    },
    "colab_type": "code",
    "executionInfo": {
     "elapsed": 554,
     "status": "ok",
     "timestamp": 1524701414849,
     "user": {
      "displayName": "Marcos Spalenza",
      "photoUrl": "//lh4.googleusercontent.com/-ubw9V6dCnss/AAAAAAAAAAI/AAAAAAAAAv8/s847fsUFaZ8/s50-c-k-no/photo.jpg",
      "userId": "103839117086579837524"
     },
     "user_tz": 180
    },
    "id": "BJLUjieNz-mQ",
    "outputId": "a30b0df4-a7e3-4b60-d77e-7a6a40c98f52"
   },
   "outputs": [
    {
     "name": "stdout",
     "output_type": "stream",
     "text": [
      "ValMoreFreq = 1\n"
     ]
    }
   ],
   "source": [
    "import numpy as np\n",
    "\n",
    "a = [8, 1, 8, 1, 9, 6, 2, 7, 0, 1, 7, 1, 6, 7, 9, 6, 0, 2, 1, 9, 8, 9, 0, 6, 9, 7, 1, 4, 2, 8, 1, 6, 4, 6, 1, 3, 5, 0, 1, 1, 5, 5, 0, 9, 4, 9, 9, 1, 1, 2]\n",
    "\n",
    "cnt = np.bincount(a)\n",
    "\n",
    "print(\"ValMoreFreq = \"+str(np.argmax(cnt)))"
   ]
  },
  {
   "cell_type": "markdown",
   "metadata": {
    "colab_type": "text",
    "id": "rIAvEJxIz-mT"
   },
   "source": [
    "## Exe. 2\n",
    "\n",
    "Considere duas matrizes A e B de forma (8,3) e (2,2). Como encontrar as linhas de A que contêm elementos de cada linha de B independentemente da ordem dos elementos em B? \n",
    "\n",
    "Exemplo:\n",
    "```\n",
    "A = [[2 1 4]\n",
    "     [3 2 2]\n",
    "     [3 4 1]\n",
    "     [3 0 0]\n",
    "     [4 3 4]\n",
    "     [0 0 1]\n",
    "     [2 1 4]\n",
    "     [0 3 1]]\n",
    "B = [[1 4]\n",
    "     [2 4]]\n",
    "rows = [0 1 2 4 6]\n",
    "```"
   ]
  },
  {
   "cell_type": "code",
   "execution_count": 206,
   "metadata": {
    "colab": {
     "autoexec": {
      "startup": false,
      "wait_interval": 0
     },
     "base_uri": "https://localhost:8080/",
     "height": 34
    },
    "colab_type": "code",
    "executionInfo": {
     "elapsed": 789,
     "status": "ok",
     "timestamp": 1524701415707,
     "user": {
      "displayName": "Marcos Spalenza",
      "photoUrl": "//lh4.googleusercontent.com/-ubw9V6dCnss/AAAAAAAAAAI/AAAAAAAAAv8/s847fsUFaZ8/s50-c-k-no/photo.jpg",
      "userId": "103839117086579837524"
     },
     "user_tz": 180
    },
    "id": "x-YbTw7bz-mU",
    "outputId": "ea1bd590-2802-497f-f755-a4f604400201"
   },
   "outputs": [
    {
     "name": "stdout",
     "output_type": "stream",
     "text": [
      "[0, 1, 2, 4, 6]\n"
     ]
    }
   ],
   "source": [
    "import numpy as np\n",
    "\n",
    "a = np.array([[2, 1, 4], [3, 2, 2], [3, 4, 1], [3, 0, 0], [4, 3, 4], [0, 0, 1], [2, 1, 4], [0, 3, 1]])\n",
    "b = np.array([[1, 4], [2, 4]])\n",
    "\n",
    "print([enum for enum, a_ in enumerate(a) if np.shape(np.where(np.isin(a_, b)))[1] >= 2])\n"
   ]
  },
  {
   "cell_type": "markdown",
   "metadata": {
    "colab_type": "text",
    "id": "IhHwf2T5z-mW"
   },
   "source": [
    "## Exe. 3\n",
    "Dado um array bidimensional, como extrair linhas unicas?\n",
    "\n",
    "Exemplo:\n",
    "```\n",
    "Z = [[0 0 1]\n",
    "     [1 0 0]\n",
    "     [1 1 0]\n",
    "     [1 1 1]\n",
    "     [0 1 1]\n",
    "     [1 1 0]]\n",
    "Zu = [[0 0 1]\n",
    "      [0 1 1]\n",
    "      [1 0 0]\n",
    "      [1 1 0]\n",
    "      [1 1 1]]\n",
    "```"
   ]
  },
  {
   "cell_type": "code",
   "execution_count": 207,
   "metadata": {
    "colab": {
     "autoexec": {
      "startup": false,
      "wait_interval": 0
     },
     "base_uri": "https://localhost:8080/",
     "height": 102
    },
    "colab_type": "code",
    "executionInfo": {
     "elapsed": 549,
     "status": "ok",
     "timestamp": 1524701416323,
     "user": {
      "displayName": "Marcos Spalenza",
      "photoUrl": "//lh4.googleusercontent.com/-ubw9V6dCnss/AAAAAAAAAAI/AAAAAAAAAv8/s847fsUFaZ8/s50-c-k-no/photo.jpg",
      "userId": "103839117086579837524"
     },
     "user_tz": 180
    },
    "id": "TYVXfqnnz-mX",
    "outputId": "f5a0a397-bada-4ddd-9e39-bbb417eb910f"
   },
   "outputs": [
    {
     "name": "stdout",
     "output_type": "stream",
     "text": [
      "[[0 0 1]\n",
      " [0 1 1]\n",
      " [1 0 0]\n",
      " [1 1 0]\n",
      " [1 1 1]]\n"
     ]
    }
   ],
   "source": [
    "z = [[0, 0, 1], [1, 0, 0], [1, 1, 0], [1, 1, 1], [0, 1, 1], [1, 1, 0]]\n",
    "\n",
    "print(np.unique(z, axis=0))"
   ]
  },
  {
   "cell_type": "markdown",
   "metadata": {
    "colab_type": "text",
    "id": "2h8Dzapaz-mb"
   },
   "source": [
    "## Exe. 4\n",
    "Converter um vetor de inteiros em uma matriz que seja sua representação binária.\n",
    "\n",
    "Exemplo:\n",
    "```\n",
    "I = [0 1 2 3 15 16 32 64 128]\n",
    "B = [[0 0 0 0 0 0 0 0]\n",
    "     [0 0 0 0 0 0 0 1]\n",
    "     [0 0 0 0 0 0 1 0]\n",
    "     [0 0 0 0 0 0 1 1]\n",
    "     [0 0 0 0 1 1 1 1]\n",
    "     [0 0 0 1 0 0 0 0]\n",
    "     [0 0 1 0 0 0 0 0]\n",
    "     [0 1 0 0 0 0 0 0]\n",
    "     [1 0 0 0 0 0 0 0]]\n",
    "```"
   ]
  },
  {
   "cell_type": "code",
   "execution_count": 208,
   "metadata": {
    "colab": {
     "autoexec": {
      "startup": false,
      "wait_interval": 0
     },
     "base_uri": "https://localhost:8080/",
     "height": 170
    },
    "colab_type": "code",
    "executionInfo": {
     "elapsed": 554,
     "status": "ok",
     "timestamp": 1524701416937,
     "user": {
      "displayName": "Marcos Spalenza",
      "photoUrl": "//lh4.googleusercontent.com/-ubw9V6dCnss/AAAAAAAAAAI/AAAAAAAAAv8/s847fsUFaZ8/s50-c-k-no/photo.jpg",
      "userId": "103839117086579837524"
     },
     "user_tz": 180
    },
    "id": "WsKZ_Dwnz-mb",
    "outputId": "f24c6dad-4092-49ac-d89a-ed205a9a3946"
   },
   "outputs": [
    {
     "name": "stdout",
     "output_type": "stream",
     "text": [
      "[[0. 0. 0. 0. 0. 0. 0. 0.]\n",
      " [0. 0. 0. 0. 0. 0. 0. 1.]\n",
      " [0. 0. 0. 0. 0. 0. 1. 0.]\n",
      " [0. 0. 0. 0. 0. 0. 1. 1.]\n",
      " [0. 0. 0. 0. 1. 1. 1. 1.]\n",
      " [0. 0. 0. 1. 0. 0. 0. 0.]\n",
      " [0. 0. 1. 0. 0. 0. 0. 0.]\n",
      " [0. 1. 0. 0. 0. 0. 0. 0.]\n",
      " [1. 0. 0. 0. 0. 0. 0. 0.]]\n"
     ]
    }
   ],
   "source": [
    "import numpy as np\n",
    "\n",
    "i = [0, 1, 2, 3, 15, 16, 32, 64, 128]\n",
    "\n",
    "values = [list(np.binary_repr(i_)) for i_ in i]\n",
    "\n",
    "mat = np.zeros((len(i), len(max(values, key=len))))\n",
    "\n",
    "for line in range(np.shape(mat)[0]):\n",
    "    item = values[line]\n",
    "    for col, val in enumerate(reversed(item)):\n",
    "        mat[line, -1-col] = val\n",
    "print(mat)\n"
   ]
  },
  {
   "cell_type": "markdown",
   "metadata": {
    "colab_type": "text",
    "id": "y3BkJYoaz-mf"
   },
   "source": [
    "## Exe. 5\n",
    "Considerando uma matriz 10x3, extraia linhas com valores desiguais (por exemplo, [2,2,3])\n",
    "\n",
    "Exemplo:\n",
    "```\n",
    "Z = [[2 2 0]\n",
    "     [1 1 3]\n",
    "     [4 3 3]\n",
    "     [1 0 1]\n",
    "     [2 2 2]\n",
    "     [2 3 3]\n",
    "     [1 1 0]\n",
    "     [0 2 0]\n",
    "     [4 4 0]\n",
    "     [4 2 3]]\n",
    "Zd = [[2 2 0]\n",
    "      [1 1 3]\n",
    "      [4 3 3]\n",
    "      [1 0 1]\n",
    "      [2 3 3]\n",
    "      [1 1 0]\n",
    "      [0 2 0]\n",
    "      [4 4 0]\n",
    "      [4 2 3]]\n",
    "```"
   ]
  },
  {
   "cell_type": "code",
   "execution_count": 209,
   "metadata": {
    "colab": {
     "autoexec": {
      "startup": false,
      "wait_interval": 0
     },
     "base_uri": "https://localhost:8080/",
     "height": 34
    },
    "colab_type": "code",
    "executionInfo": {
     "elapsed": 541,
     "status": "ok",
     "timestamp": 1524701417541,
     "user": {
      "displayName": "Marcos Spalenza",
      "photoUrl": "//lh4.googleusercontent.com/-ubw9V6dCnss/AAAAAAAAAAI/AAAAAAAAAv8/s847fsUFaZ8/s50-c-k-no/photo.jpg",
      "userId": "103839117086579837524"
     },
     "user_tz": 180
    },
    "id": "5Zk_geP2z-mg",
    "outputId": "c58e5b06-ab36-42df-db0f-25517049c0d6"
   },
   "outputs": [
    {
     "name": "stdout",
     "output_type": "stream",
     "text": [
      "[[2, 2, 0], [1, 1, 3], [4, 3, 3], [1, 0, 1], [2, 3, 3], [1, 1, 0], [0, 2, 0], [4, 4, 0], [4, 2, 3]]\n"
     ]
    }
   ],
   "source": [
    "import numpy as np\n",
    "\n",
    "arr = [[2, 2, 0], [1, 1, 3], [4, 3, 3], [1, 0, 1], [2, 2, 2], [2, 3, 3], [1, 1, 0], [0, 2, 0], [4, 4, 0], [4, 2, 3]]\n",
    "\n",
    "print([a for a in arr if len(np.unique(a)) > 1])"
   ]
  }
 ],
 "metadata": {
  "colab": {
   "collapsed_sections": [],
   "default_view": {},
   "name": "ListaExerciciosNumpy.ipynb",
   "provenance": [],
   "version": "0.3.2",
   "views": {}
  },
  "kernelspec": {
   "display_name": "Python 3 (ipykernel)",
   "language": "python",
   "name": "python3"
  },
  "language_info": {
   "codemirror_mode": {
    "name": "ipython",
    "version": 3
   },
   "file_extension": ".py",
   "mimetype": "text/x-python",
   "name": "python",
   "nbconvert_exporter": "python",
   "pygments_lexer": "ipython3",
   "version": "3.8.10"
  }
 },
 "nbformat": 4,
 "nbformat_minor": 4
}
