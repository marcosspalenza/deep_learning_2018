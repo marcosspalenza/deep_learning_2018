{
 "cells": [
  {
   "cell_type": "markdown",
   "metadata": {
    "colab_type": "text",
    "id": "_bdC-H0RxpOU"
   },
   "source": [
    "# Lista de exercícios sobre programação em Python"
   ]
  },
  {
   "cell_type": "markdown",
   "metadata": {
    "colab_type": "text",
    "id": "Ewi6c1nTxpOX"
   },
   "source": [
    "<br/>**Disciplina**: Introdução a Redes Neurais Profundas 2018/1\n",
    "<br/>**Professor**: Jorge Leonid Aching Samatelo"
   ]
  },
  {
   "cell_type": "markdown",
   "metadata": {
    "colab_type": "text",
    "id": "adEtUH9RxpOY"
   },
   "source": [
    "**Aluno**: Marcos Alécio Spalenza"
   ]
  },
  {
   "cell_type": "markdown",
   "metadata": {
    "colab_type": "text",
    "id": "OFE_hF7gxpOa"
   },
   "source": [
    "## Tabela de conteúdos\n",
    "1. [Exercícios sobre String](#ExerString)\n",
    "1. [Exercícios sobre Listas](#ExerListas)\n",
    "1. [Exercícios sobre Tuplas](#ExerTuplas)\n",
    "1. [Exercícios sobre Dicionarios](#ExerDicionarios)\n",
    "1. [Exercícios sobre Sentenças Condicionais e Repetição](#ExerCondRept)\n",
    "1. [Exercícios de Programação](#ExerProgramacao)"
   ]
  },
  {
   "cell_type": "markdown",
   "metadata": {
    "colab_type": "text",
    "id": "XbHoOUgmxpOb"
   },
   "source": [
    "## Exercícios sobre String <a name=\"ExerString\"></a>"
   ]
  },
  {
   "cell_type": "markdown",
   "metadata": {
    "colab_type": "text",
    "id": "FulGu7ANxpOd"
   },
   "source": [
    "### Exe. 1 \n",
    "Faça um programa que leia 2 strings e imprima o conteúdo delas seguido do seu comprimento. Informe também se as duas strings possuem o mesmo comprimento e são iguais ou diferentes no conteúdo. \n",
    "\n",
    "Exemplo:\n",
    "```\n",
    "Compara duas strings.\n",
    "String 1: 'Brasil Hexa 2006'\n",
    "String 2: 'Brasil! Hexa 2006!'\n",
    "Tamanho de 'Brasil Hexa 2006': 16 caracteres\n",
    "Tamanho de 'Brasil! Hexa 2006!': 18 caracteres\n",
    "As duas strings são de tamanhos diferentes.\n",
    "As duas strings possuem conteúdo diferente.\n",
    "```"
   ]
  },
  {
   "cell_type": "code",
   "execution_count": 161,
   "metadata": {
    "colab": {
     "autoexec": {
      "startup": false,
      "wait_interval": 0
     },
     "base_uri": "https://localhost:8080/",
     "height": 153
    },
    "colab_type": "code",
    "executionInfo": {
     "elapsed": 627,
     "status": "ok",
     "timestamp": 1523736836801,
     "user": {
      "displayName": "Marcos Spalenza",
      "photoUrl": "//lh4.googleusercontent.com/-ubw9V6dCnss/AAAAAAAAAAI/AAAAAAAAAv8/s847fsUFaZ8/s50-c-k-no/photo.jpg",
      "userId": "103839117086579837524"
     },
     "user_tz": 180
    },
    "id": "wJgjI2LaxpOd",
    "outputId": "62365f2c-a910-4ce5-e377-1ba25f43bed2"
   },
   "outputs": [
    {
     "name": "stdout",
     "output_type": "stream",
     "text": [
      "Escreva o texto 1:\n",
      "Escreva o texto 2:\n",
      "String 1: 'Brasil Hexa 2006'\n",
      "String 2: 'Brasil! Hexa 2006!'\n",
      "Tamanho de 'Brasil Hexa 2006': 16 caracteres\n",
      "Tamanho de 'Brasil! Hexa 2006!': 18 caracteres\n",
      "As duas strings são de tamanhos diferentes.\n",
      "As duas strings possuem conteúdo diferente.\n"
     ]
    }
   ],
   "source": [
    "#str1=\"Brasil Hexa 2006\"\n",
    "#str2=\"Brasil! Hexa 2006!\"\n",
    "\n",
    "print(\"Escreva o texto 1:\")\n",
    "# str1=input()\n",
    "str1 = \"Brasil Hexa 2006\"\n",
    "print(\"Escreva o texto 2:\")\n",
    "# str2=input()\n",
    "str2 = \"Brasil! Hexa 2006!\"\n",
    "\n",
    "print(\"String 1: '\"+str1+\"'\\nString 2: '\"+str2+\"'\")\n",
    "print(\"Tamanho de '\"+str1+\"': \"+str(len(str1))+\" caracteres\\nTamanho de '\"+str2+\"': \"+str(len(str2))+\" caracteres\")\n",
    "\n",
    "if len(str1) != len(str2):\n",
    "    print(\"As duas strings são de tamanhos diferentes.\")\n",
    "if str1 != str2:\n",
    "    print(\"As duas strings possuem conteúdo diferente.\")"
   ]
  },
  {
   "cell_type": "markdown",
   "metadata": {
    "colab_type": "text",
    "id": "97s_7Q0_xpOh"
   },
   "source": [
    "### Exe. 2\n",
    "\n",
    "Dado o texto: \n",
    "\n",
    "> *The Python Software Foundation and the global Python community welcome and encourage participation by everyone. Our community is based on mutual respect, tolerance, and encouragement, and we are working to help each other live up to these principles. We want our community to be more diverse: whoever you are, and whatever your backgrou and, we welcome you.*\n",
    "\n",
    "Calcule quantas palavras possuem uma das letras “python” e que tenham mais de 4 caracteres. Não esqueça de transformar maiúsculas para minúsculas e de remover antes os caracteres especiais."
   ]
  },
  {
   "cell_type": "code",
   "execution_count": 162,
   "metadata": {
    "colab": {
     "autoexec": {
      "startup": false,
      "wait_interval": 0
     },
     "base_uri": "https://localhost:8080/",
     "height": 34
    },
    "colab_type": "code",
    "executionInfo": {
     "elapsed": 505,
     "status": "ok",
     "timestamp": 1523736837492,
     "user": {
      "displayName": "Marcos Spalenza",
      "photoUrl": "//lh4.googleusercontent.com/-ubw9V6dCnss/AAAAAAAAAAI/AAAAAAAAAv8/s847fsUFaZ8/s50-c-k-no/photo.jpg",
      "userId": "103839117086579837524"
     },
     "user_tz": 180
    },
    "id": "klTPpPb5xpOh",
    "outputId": "663a60bc-7a95-44b3-b03a-de7327f540be"
   },
   "outputs": [
    {
     "name": "stdout",
     "output_type": "stream",
     "text": [
      "A quantidade de palavras que contém uma das letras 'p' 'y' 't' 'h' 'o' 'n' é: 23 palavras\n"
     ]
    }
   ],
   "source": [
    "import re\n",
    "\n",
    "key_ = \"python\"\n",
    "raw_text = \"The Python Software Foundation and the global Python community welcome and encourage participation by everyone.\\\n",
    "Our community is based on mutual respect, tolerance, and encouragement, and we are working to help each other live up to these principles.\\\n",
    "We want our community to be more diverse: whoever you are, and whatever your backgrou and, we welcome you.\"\n",
    "\n",
    "text = \" \".join([re.sub(r'\\W+', ' ', word) for word in raw_text.lower().split()])\n",
    "\n",
    "text = [[True if each_char in key_.lower() else False for each_char in word] for word in text.split(\" \") if word != \"\"]\n",
    "\n",
    "print(\"A quantidade de palavras que contém uma das letras 'p' 'y' 't' 'h' 'o' 'n' é: \"+str(len([vec for vec in text if True in vec and len(vec) > 4])-1)+\" palavras\")"
   ]
  },
  {
   "cell_type": "markdown",
   "metadata": {
    "colab_type": "text",
    "id": "aUwBTLf8xpOk"
   },
   "source": [
    "### Exe. 3\n",
    "Conta espaços e vogais. Dado uma string com uma frase informada pelo usuário (incluindo espaços em branco), conte:\n",
    "1. Quantos espaços em branco existem na frase.\n",
    "2. Quantas vezes aparecem as vogais a, e, i, o, u. "
   ]
  },
  {
   "cell_type": "code",
   "execution_count": 163,
   "metadata": {
    "colab": {
     "autoexec": {
      "startup": false,
      "wait_interval": 0
     },
     "base_uri": "https://localhost:8080/",
     "height": 68
    },
    "colab_type": "code",
    "executionInfo": {
     "elapsed": 497,
     "status": "ok",
     "timestamp": 1523736838161,
     "user": {
      "displayName": "Marcos Spalenza",
      "photoUrl": "//lh4.googleusercontent.com/-ubw9V6dCnss/AAAAAAAAAAI/AAAAAAAAAv8/s847fsUFaZ8/s50-c-k-no/photo.jpg",
      "userId": "103839117086579837524"
     },
     "user_tz": 180
    },
    "id": "TgcZBRGExpOk",
    "outputId": "aa817b54-0b0f-46d5-ab0f-d1a0d9c68777"
   },
   "outputs": [
    {
     "name": "stdout",
     "output_type": "stream",
     "text": [
      "Digite uma frase:\n",
      "A frase contém 4 espaços.\n",
      "A frase contém 8 vogais.\n"
     ]
    }
   ],
   "source": [
    "import unicodedata\n",
    "\n",
    "def remover_acentuacao(string):\n",
    "    string = unicodedata.normalize('NFD', string)\n",
    "    return u''.join(ch for ch in string if unicodedata.category(ch) != 'Mn')\n",
    "\n",
    "print(\"Digite uma frase:\")\n",
    "# text = input()\n",
    "text = \"Esta é a frase exemplo!\"\n",
    "\n",
    "print(\"A frase contém \"+str(len([True for each_char in text if each_char == \" \"]))+\" espaços.\")\n",
    "print(\"A frase contém \"+str(len([True for each_char in text if remover_acentuacao(each_char) in \"aeiou\"]))+\" vogais.\")"
   ]
  },
  {
   "cell_type": "markdown",
   "metadata": {
    "colab_type": "text",
    "id": "aRRdRkn8xpOm"
   },
   "source": [
    "### Exe. 4\n",
    "Faça um programa que receba uma palavra e imprime cada letra dessa palavra separadamente. Para isso utilize a função `len` que informa o comprimento de uma string: len(palavra)"
   ]
  },
  {
   "cell_type": "code",
   "execution_count": 164,
   "metadata": {
    "colab": {
     "autoexec": {
      "startup": false,
      "wait_interval": 0
     },
     "base_uri": "https://localhost:8080/",
     "height": 51
    },
    "colab_type": "code",
    "executionInfo": {
     "elapsed": 510,
     "status": "ok",
     "timestamp": 1523736838884,
     "user": {
      "displayName": "Marcos Spalenza",
      "photoUrl": "//lh4.googleusercontent.com/-ubw9V6dCnss/AAAAAAAAAAI/AAAAAAAAAv8/s847fsUFaZ8/s50-c-k-no/photo.jpg",
      "userId": "103839117086579837524"
     },
     "user_tz": 180
    },
    "id": "oZLcVvy2xpOo",
    "outputId": "b24d3c17-0402-4588-9409-45fcc1021aed"
   },
   "outputs": [
    {
     "name": "stdout",
     "output_type": "stream",
     "text": [
      "Digite uma palavra:\n",
      "E - X - E - M - P - L - O\n"
     ]
    }
   ],
   "source": [
    "import re\n",
    "\n",
    "print(\"Digite uma palavra:\")\n",
    "# word = input()\n",
    "word = \"exemplo\"\n",
    "word = re.sub(r'\\W+','', word)\n",
    "print(\" - \".join([word.upper()[wid] for wid in range(len(word))]))"
   ]
  },
  {
   "cell_type": "markdown",
   "metadata": {
    "colab_type": "text",
    "id": "oRTEXv8yxpOs"
   },
   "source": [
    "### Exe. 5\n",
    "Escreva um programa que determine o valor da soma: a + aa + aaa + aaaa, onde, o valor de a é definido como um caráter. Por exemplo.\n",
    "Suponha que a = '9'. Então, a saída do programa deve ser: 11106 ( = 9+99+999+9999)"
   ]
  },
  {
   "cell_type": "code",
   "execution_count": 165,
   "metadata": {
    "colab": {
     "autoexec": {
      "startup": false,
      "wait_interval": 0
     },
     "base_uri": "https://localhost:8080/",
     "height": 51
    },
    "colab_type": "code",
    "executionInfo": {
     "elapsed": 515,
     "status": "ok",
     "timestamp": 1523736839516,
     "user": {
      "displayName": "Marcos Spalenza",
      "photoUrl": "//lh4.googleusercontent.com/-ubw9V6dCnss/AAAAAAAAAAI/AAAAAAAAAv8/s847fsUFaZ8/s50-c-k-no/photo.jpg",
      "userId": "103839117086579837524"
     },
     "user_tz": 180
    },
    "id": "Zpc0-8OxxpOt",
    "outputId": "86a96f0f-23a3-47da-a151-397f700d1cc6"
   },
   "outputs": [
    {
     "name": "stdout",
     "output_type": "stream",
     "text": [
      "Digite o valor de x:\n",
      "A soma do número 9 agrupado de 1 até 4x é de 11106\n"
     ]
    }
   ],
   "source": [
    "group = 4\n",
    "print(\"Digite o valor de x:\")\n",
    "# x = input()\n",
    "x = \"9\"\n",
    "\n",
    "mult_sum = sum([int(x*mult) for mult in range(1, group+1)])\n",
    "print(\"A soma do número \"+x+\" agrupado de 1 até \"+str(group)+\"x é de \"+str(mult_sum))"
   ]
  },
  {
   "cell_type": "markdown",
   "metadata": {
    "colab_type": "text",
    "id": "LFAWl6CyxpOw"
   },
   "source": [
    "## Exercicios sobre Listas <a name=\"ExerListas\"></a>"
   ]
  },
  {
   "cell_type": "markdown",
   "metadata": {
    "colab_type": "text",
    "id": "9kH2OpR9xpOw"
   },
   "source": [
    "### Exe. 1\n",
    "Escreva uma função que combine duas listas tomando alternadamente seus elementos. Por exemplo: dadas as duas listas `[a, b, c]` e `[1, 2, 3]`, a função deve retornar `[a, 1, b, 2, c, 3]`."
   ]
  },
  {
   "cell_type": "code",
   "execution_count": 166,
   "metadata": {
    "colab": {
     "autoexec": {
      "startup": false,
      "wait_interval": 0
     },
     "base_uri": "https://localhost:8080/",
     "height": 34
    },
    "colab_type": "code",
    "executionInfo": {
     "elapsed": 514,
     "status": "ok",
     "timestamp": 1523736840182,
     "user": {
      "displayName": "Marcos Spalenza",
      "photoUrl": "//lh4.googleusercontent.com/-ubw9V6dCnss/AAAAAAAAAAI/AAAAAAAAAv8/s847fsUFaZ8/s50-c-k-no/photo.jpg",
      "userId": "103839117086579837524"
     },
     "user_tz": 180
    },
    "id": "LREQfmsNxpOx",
    "outputId": "b4a4d39f-9d2d-4c53-d72d-3deef71a72c2"
   },
   "outputs": [
    {
     "name": "stdout",
     "output_type": "stream",
     "text": [
      "Lista alternada:['a', '1', 'b', '2', 'c', '3']\n"
     ]
    }
   ],
   "source": [
    "def alterna_(lst_a, lst_b):\n",
    "    if len(lst_a) == len(lst_b):\n",
    "        size_ = len(lst_a)\n",
    "        for i in range(size_):\n",
    "            yield lst_a[i]\n",
    "            yield lst_b[i]\n",
    "\n",
    "lst_a = ['a', 'b', 'c']\n",
    "lst_b = ['1', '2', '3']\n",
    "\n",
    "print(\"Lista alternada:\"+str(list(alterna_(lst_a, lst_b))))\n"
   ]
  },
  {
   "cell_type": "markdown",
   "metadata": {
    "colab_type": "text",
    "id": "E_irUDsGxpOz"
   },
   "source": [
    "### Exe. 2\n",
    "\n",
    "Escreva um programa para determinar os elementos não comuns entre duas listas. \n",
    "\n",
    "Exemplo.\n",
    "```python\n",
    "lista1 = [\"red\", \"orange\", \"green\", \"blue\", \"white\"]\n",
    "lista2 = [\"black\", \"yellow\", \"green\", \"blue\"]\n",
    "```\n",
    "Saídas esperadas:\n",
    "```python\n",
    "lista1_lista2: ['white', 'orange', 'red']\n",
    "lista2_lista1: ['black', 'yellow']\n",
    "```"
   ]
  },
  {
   "cell_type": "code",
   "execution_count": 167,
   "metadata": {
    "colab": {
     "autoexec": {
      "startup": false,
      "wait_interval": 0
     },
     "base_uri": "https://localhost:8080/",
     "height": 51
    },
    "colab_type": "code",
    "executionInfo": {
     "elapsed": 519,
     "status": "ok",
     "timestamp": 1523736840898,
     "user": {
      "displayName": "Marcos Spalenza",
      "photoUrl": "//lh4.googleusercontent.com/-ubw9V6dCnss/AAAAAAAAAAI/AAAAAAAAAv8/s847fsUFaZ8/s50-c-k-no/photo.jpg",
      "userId": "103839117086579837524"
     },
     "user_tz": 180
    },
    "id": "SPGSgAEkxpO1",
    "outputId": "e03cef78-9dce-4ee5-cb28-229889e840ec"
   },
   "outputs": [
    {
     "name": "stdout",
     "output_type": "stream",
     "text": [
      "lista1_lista2: ['red', 'orange', 'white']\n",
      "lista2_lista1: ['black', 'yellow']\n"
     ]
    }
   ],
   "source": [
    "lista1 = [\"red\", \"orange\", \"green\", \"blue\", \"white\"]\n",
    "lista2 = [\"black\", \"yellow\", \"green\", \"blue\"]\n",
    "\n",
    "print(\"lista1_lista2: \"+str([item for item in lista1 if item not in lista2]))\n",
    "print(\"lista2_lista1: \"+str([item for item in lista2 if item not in lista1]))"
   ]
  },
  {
   "cell_type": "markdown",
   "metadata": {
    "colab_type": "text",
    "id": "mc5Jif_vxpO2"
   },
   "source": [
    "### Exe. 3\n",
    "Escreva um programa Python que permita remover elementos duplicados de uma lista.\n",
    "\n",
    "Exemplo\n",
    "```python\n",
    "ListaInput = [10,20,30,20,10,50,60,40,80,50,40] \n",
    "ListaOutput = [10,20,30,50,60,40,80]\n",
    "```"
   ]
  },
  {
   "cell_type": "code",
   "execution_count": 168,
   "metadata": {
    "colab": {
     "autoexec": {
      "startup": false,
      "wait_interval": 0
     },
     "base_uri": "https://localhost:8080/",
     "height": 34
    },
    "colab_type": "code",
    "executionInfo": {
     "elapsed": 573,
     "status": "ok",
     "timestamp": 1523736841582,
     "user": {
      "displayName": "Marcos Spalenza",
      "photoUrl": "//lh4.googleusercontent.com/-ubw9V6dCnss/AAAAAAAAAAI/AAAAAAAAAv8/s847fsUFaZ8/s50-c-k-no/photo.jpg",
      "userId": "103839117086579837524"
     },
     "user_tz": 180
    },
    "id": "NIBUXs4ZxpO3",
    "outputId": "43750906-8bfc-4565-df8d-050bffbbc11b"
   },
   "outputs": [
    {
     "name": "stdout",
     "output_type": "stream",
     "text": [
      "listaOutput: [10, 20, 30, 50, 60, 40, 80]\n"
     ]
    }
   ],
   "source": [
    "listaIn = [10,20,30,20,10,50,60,40,80,50,40] \n",
    "listaOut = []\n",
    "[listaOut.append(val) for val in listaIn if val not in listaOut]\n",
    "print(\"listaOutput: \"+str(listaOut))"
   ]
  },
  {
   "cell_type": "markdown",
   "metadata": {
    "colab_type": "text",
    "id": "83oJ8JT9xpO6"
   },
   "source": [
    "### Exe. 4\n",
    "Escreva um programa que dada uma lista de entrada, retorne uma nova lista cujo conteúdo é igual ao original, mas invertida. \n",
    "\n",
    "Exemplo\n",
    "```python\n",
    "ListaInput = [ 'Di', 'bom', 'dia', 'a', 'papa'] \n",
    "ListaOutput = [ 'papa', 'a', 'dia', 'boa', 'Di']\n",
    "```"
   ]
  },
  {
   "cell_type": "code",
   "execution_count": 169,
   "metadata": {
    "colab": {
     "autoexec": {
      "startup": false,
      "wait_interval": 0
     },
     "base_uri": "https://localhost:8080/",
     "height": 34
    },
    "colab_type": "code",
    "executionInfo": {
     "elapsed": 730,
     "status": "ok",
     "timestamp": 1523736842458,
     "user": {
      "displayName": "Marcos Spalenza",
      "photoUrl": "//lh4.googleusercontent.com/-ubw9V6dCnss/AAAAAAAAAAI/AAAAAAAAAv8/s847fsUFaZ8/s50-c-k-no/photo.jpg",
      "userId": "103839117086579837524"
     },
     "user_tz": 180
    },
    "id": "0TSXuphQxpO7",
    "outputId": "40a08ab0-4408-4660-9120-f4a94108f8a1"
   },
   "outputs": [
    {
     "name": "stdout",
     "output_type": "stream",
     "text": [
      "ListaOutput: ['papa', 'a', 'dia', 'bom', 'Di']\n"
     ]
    }
   ],
   "source": [
    "listaIn = [ 'Di', 'bom', 'dia', 'a', 'papa']\n",
    "\n",
    "print(\"ListaOutput: \"+str(listaIn[::-1]))"
   ]
  },
  {
   "cell_type": "markdown",
   "metadata": {
    "colab_type": "text",
    "id": "ilpvSIUOxpO-"
   },
   "source": [
    "### Exe. 5\n",
    "Faça uma função que determine a superposição de duas listas, ou seja, que retorne `True` se as listas têm pelo menos um elemento em comum, caso contrario, deve retornar `False`."
   ]
  },
  {
   "cell_type": "code",
   "execution_count": 170,
   "metadata": {
    "colab": {
     "autoexec": {
      "startup": false,
      "wait_interval": 0
     },
     "base_uri": "https://localhost:8080/",
     "height": 51
    },
    "colab_type": "code",
    "executionInfo": {
     "elapsed": 584,
     "status": "ok",
     "timestamp": 1523736843161,
     "user": {
      "displayName": "Marcos Spalenza",
      "photoUrl": "//lh4.googleusercontent.com/-ubw9V6dCnss/AAAAAAAAAAI/AAAAAAAAAv8/s847fsUFaZ8/s50-c-k-no/photo.jpg",
      "userId": "103839117086579837524"
     },
     "user_tz": 180
    },
    "id": "5dE74EV0xpO-",
    "outputId": "55dd380e-b5c1-4cda-d5e5-467dfd150c33"
   },
   "outputs": [
    {
     "name": "stdout",
     "output_type": "stream",
     "text": [
      "['red', 'orange', 'green', 'blue', 'white'] ['black', 'yellow', 'green', 'blue']\n",
      "As listas têm itens em comum.\n"
     ]
    }
   ],
   "source": [
    "def list_sim(lista1, lista2):\n",
    "    intersect = [i in lista2 for i in lista1] \n",
    "    return True in intersect\n",
    "\n",
    "lista1 = [\"red\", \"orange\", \"green\", \"blue\", \"white\"]\n",
    "lista2 = [\"black\", \"yellow\", \"green\", \"blue\"]\n",
    "\n",
    "print(lista1, lista2)\n",
    "if list_sim(lista1, lista2):\n",
    "    print(\"As listas têm itens em comum.\")\n",
    "else:\n",
    "    print(\"As listas não têm itens em comum.\")"
   ]
  },
  {
   "cell_type": "markdown",
   "metadata": {
    "colab_type": "text",
    "id": "OklzdgM3xpPB"
   },
   "source": [
    "## Exercícios sobre Tuplas <a name=\"ExerTuplas\"></a>"
   ]
  },
  {
   "cell_type": "markdown",
   "metadata": {
    "colab_type": "text",
    "id": "_RE8OnU2xpPC"
   },
   "source": [
    "### Exe. 1\n",
    "Escreva um programa que permita classificar as tuplas (nome, idade, altura) por ordem crescente, onde o nome é string, idade e altura são números. \n",
    "As tuplas são inseridas pelo console. \n",
    "\n",
    "Os critérios de classificação são:\n",
    "1. Classificar com base no nome;\n",
    "2. Em seguida, classificar com base na idade;\n",
    "3. Em seguida, classificar por altura.\n",
    "4. A prioridade é que:  `nome> idade> altura`.\n",
    "\n",
    "A entrada é dada como uma string, onde as tuplas são separadas por dois pontos (;) e os elementos de cada tupla são separados por vírgula (,).\n",
    "\n",
    "Exemplo.\n",
    "Se as seguintes tuplas são dadas como entrada para o programa:\n",
    "```python\n",
    "str_input = 'Tom,19,80;João,20,90;Jony,17,91;Jony,17,93;Json,21,85'\n",
    "```\n",
    "Em seguida, a saída do programa deve ser:\n",
    "```python\n",
    "tupla_output = [('Jony', '17', '91'), ('Jony', '17', '93'), ('João', '20', '90'), ('Json', '21', '85'), ('Tom', '19', '80')]\n",
    "```"
   ]
  },
  {
   "cell_type": "code",
   "execution_count": 171,
   "metadata": {
    "colab": {
     "autoexec": {
      "startup": false,
      "wait_interval": 0
     },
     "base_uri": "https://localhost:8080/",
     "height": 34
    },
    "colab_type": "code",
    "executionInfo": {
     "elapsed": 752,
     "status": "ok",
     "timestamp": 1523736844043,
     "user": {
      "displayName": "Marcos Spalenza",
      "photoUrl": "//lh4.googleusercontent.com/-ubw9V6dCnss/AAAAAAAAAAI/AAAAAAAAAv8/s847fsUFaZ8/s50-c-k-no/photo.jpg",
      "userId": "103839117086579837524"
     },
     "user_tz": 180
    },
    "id": "rh3Qq3PPxpPC",
    "outputId": "533a7a27-1ab6-4237-d4cb-26f74c3c48b4"
   },
   "outputs": [
    {
     "name": "stdout",
     "output_type": "stream",
     "text": [
      "[('Jony', '17', '91'), ('Jony', '17', '93'), ('João', '20', '90'), ('Json', '21', '85'), ('Tom', '19', '80')]\n"
     ]
    }
   ],
   "source": [
    "str_input = 'Tom,19,80;João,20,90;Jony,17,91;Jony,17,93;Json,21,85'\n",
    "\n",
    "data = []\n",
    "\n",
    "for name, age, height in [value.split(',') for value in str_input.split(\";\")]:\n",
    "    data.append((name, age, height))\n",
    "\n",
    "tuple_output = [d_ for d_ in sorted(data, key = lambda x: (x[0], x[1], x[2]))]\n",
    "\n",
    "print(tuple_output)"
   ]
  },
  {
   "cell_type": "markdown",
   "metadata": {
    "colab_type": "text",
    "id": "3c4FhBmTxpPE"
   },
   "source": [
    "### Exe. 2\n",
    "Escreva um programa que mostre todas fichas de dominó, sem repetir, um por linha. da seguinte forma:\n",
    "```\n",
    "1:1\n",
    "1:2\n",
    "...\n",
    "6:6\n",
    "```"
   ]
  },
  {
   "cell_type": "code",
   "execution_count": 172,
   "metadata": {
    "colab": {
     "autoexec": {
      "startup": false,
      "wait_interval": 0
     },
     "base_uri": "https://localhost:8080/",
     "height": 493
    },
    "colab_type": "code",
    "executionInfo": {
     "elapsed": 555,
     "status": "ok",
     "timestamp": 1523736844716,
     "user": {
      "displayName": "Marcos Spalenza",
      "photoUrl": "//lh4.googleusercontent.com/-ubw9V6dCnss/AAAAAAAAAAI/AAAAAAAAAv8/s847fsUFaZ8/s50-c-k-no/photo.jpg",
      "userId": "103839117086579837524"
     },
     "user_tz": 180
    },
    "id": "fKAUv7tNxpPE",
    "outputId": "846bf92f-ebd3-4a8a-b9ac-84ce9d3f4768"
   },
   "outputs": [
    {
     "name": "stdout",
     "output_type": "stream",
     "text": [
      "0:0\n",
      "0:1\n",
      "0:2\n",
      "0:3\n",
      "0:4\n",
      "0:5\n",
      "0:6\n",
      "1:1\n",
      "1:2\n",
      "1:3\n",
      "1:4\n",
      "1:5\n",
      "1:6\n",
      "2:2\n",
      "2:3\n",
      "2:4\n",
      "2:5\n",
      "2:6\n",
      "3:3\n",
      "3:4\n",
      "3:5\n",
      "3:6\n",
      "4:4\n",
      "4:5\n",
      "4:6\n",
      "5:5\n",
      "5:6\n",
      "6:6\n"
     ]
    }
   ],
   "source": [
    "for l1, l2 in [(lado1,lado2) for lado1 in range(0, 6 + 1) for lado2 in range(0, 6 + 1) if lado1 <= lado2]:\n",
    "    print(str(l1)+\":\"+str(l2))"
   ]
  },
  {
   "cell_type": "markdown",
   "metadata": {
    "colab_type": "text",
    "id": "WLEIXl1AxpPH"
   },
   "source": [
    "### Exe. 3\n",
    "Escreva uma função que retorne `True` se duas fichas de dominó encaixarem ou não. \n",
    "As fichas de dominó são representadas como tuplas, por exemplo, `(3,4)` e `(5,4)`."
   ]
  },
  {
   "cell_type": "code",
   "execution_count": 173,
   "metadata": {
    "colab": {
     "autoexec": {
      "startup": false,
      "wait_interval": 0
     },
     "base_uri": "https://localhost:8080/",
     "height": 105
    },
    "colab_type": "code",
    "executionInfo": {
     "elapsed": 508,
     "status": "ok",
     "timestamp": 1523736845375,
     "user": {
      "displayName": "Marcos Spalenza",
      "photoUrl": "//lh4.googleusercontent.com/-ubw9V6dCnss/AAAAAAAAAAI/AAAAAAAAAv8/s847fsUFaZ8/s50-c-k-no/photo.jpg",
      "userId": "103839117086579837524"
     },
     "user_tz": 180
    },
    "id": "4SwvyIftxpPJ",
    "outputId": "b3b69da7-c96f-4946-ad77-170c8c6bc366"
   },
   "outputs": [
    {
     "name": "stdout",
     "output_type": "stream",
     "text": [
      " [0:0]  [0:1]  [0:2]  [0:3]  [0:4]  [0:5]  [0:6]  [1:1]  [1:2]  [1:3]  [1:4]  [1:5]  [1:6]  [2:2]  [2:3]  [2:4]  [2:5]  [2:6]  [3:3]  [3:4]  [3:5]  [3:6]  [4:4]  [4:5]  [4:6]  [5:5]  [5:6]  [6:6]\n",
      "Digite os dominós para comparação: \n",
      "\t [Cada dominó deverá ser separado por ',' e com ':' para indicar seus lados] Ex.: 1:2, 3:4 \n",
      "[ 4:2] [2:1]\n"
     ]
    }
   ],
   "source": [
    "def compara_domino(dom1, dom2):\n",
    "    if dom1[0] in dom2:\n",
    "        return (0, dom2.index(dom1[0]))\n",
    "    elif dom1[1] in dom2:\n",
    "        return (1, dom2.index(dom1[1]))\n",
    "    return (-1, -1)      \n",
    "\n",
    "dominos = [(lado1,lado2) for lado1 in range(0, 6 + 1) for lado2 in range(0, 6 + 1) if lado1 <= lado2]\n",
    "print(\" \".join([\" [\"+str(d[0])+\":\"+str(d[1])+\"]\" for d in dominos]))\n",
    "\n",
    "print(\"Digite os dominós para comparação: \\n\\t [Cada dominó deverá ser separado por ',' e com ':' para indicar seus lados] Ex.: 1:2, 3:4 \")\n",
    "# dom_ = input().split(\",\")\n",
    "\n",
    "dom_ = \"2:4, 1:2\".split(\",\")\n",
    "\n",
    "\n",
    "dom_ = [(int(l[0]), int(l[1])) for l in [d_.split(\":\") for d_ in dom_]]\n",
    "for e_, d_ in enumerate(dom_):\n",
    "    for resultado, domino in [(compara_domino(d_, d_1), d_1) for e_1, d_1 in enumerate(dom_) if e_1 > e_]:\n",
    "        if resultado != (-1, -1) and  domino != d_:\n",
    "            print(\"[ \"+str(d_[~(resultado[0])])+\":\"+str(d_[resultado[0]])+\"] [\"+str(domino[resultado[1]])+\":\"+str(domino[~(resultado[1])])+\"]\")         \n",
    "        \n",
    "            \n"
   ]
  },
  {
   "cell_type": "markdown",
   "metadata": {
    "colab_type": "text",
    "id": "ucmPScpcxpPK"
   },
   "source": [
    "## Exercícios sobre Dicionários <a name=\"ExerDicionarios\"></a>"
   ]
  },
  {
   "cell_type": "markdown",
   "metadata": {
    "colab_type": "text",
    "id": "Zq7pCojDxpPL"
   },
   "source": [
    "### Exe. 1\n",
    "Escreva uma função que permita concatenar dicionários e criar um novo dicionário.\n",
    "\n",
    "Exemplo.\n",
    "Sejam os dicionários de entrada\n",
    "```python\n",
    "dic1={1:10, 2:20}\n",
    "dic2={3:30, 4:40}\n",
    "dic3={5:50,6:60}\n",
    "```\n",
    "o resultado esperado será:\n",
    "```python\n",
    "{1: 10, 2: 20, 3: 30, 4: 40, 5: 50, 6: 60}\n",
    "```"
   ]
  },
  {
   "cell_type": "code",
   "execution_count": 174,
   "metadata": {
    "colab": {
     "autoexec": {
      "startup": false,
      "wait_interval": 0
     },
     "base_uri": "https://localhost:8080/",
     "height": 34
    },
    "colab_type": "code",
    "executionInfo": {
     "elapsed": 549,
     "status": "ok",
     "timestamp": 1523736846044,
     "user": {
      "displayName": "Marcos Spalenza",
      "photoUrl": "//lh4.googleusercontent.com/-ubw9V6dCnss/AAAAAAAAAAI/AAAAAAAAAv8/s847fsUFaZ8/s50-c-k-no/photo.jpg",
      "userId": "103839117086579837524"
     },
     "user_tz": 180
    },
    "id": "RQ11SEyzxpPN",
    "outputId": "a398847f-4160-47b4-ed90-4c7b017f2512"
   },
   "outputs": [
    {
     "name": "stdout",
     "output_type": "stream",
     "text": [
      "{1: 10, 2: 20, 3: 30, 4: 40, 5: 50, 6: 60}\n"
     ]
    }
   ],
   "source": [
    "def concat_dict(dictvec):\n",
    "    for d_ in dictvec:\n",
    "       for k_ in d_.keys():\n",
    "           yield k_, d_[k_]\n",
    "  \n",
    "\n",
    "dic1={1:10, 2:20}\n",
    "dic2={3:30, 4:40}\n",
    "dic3={5:50,6:60}\n",
    "\n",
    "vec_dict= [dic1, dic2, dic3]\n",
    "\n",
    "complete_dic = {}\n",
    "for key_, value in concat_dict(vec_dict):\n",
    "    complete_dic[key_] = value\n",
    "\n",
    "print(complete_dic)"
   ]
  },
  {
   "cell_type": "markdown",
   "metadata": {
    "colab_type": "text",
    "id": "0pHYNF2gxpPO"
   },
   "source": [
    "### Exe. 2\n",
    "Escreva um programa para calcular a frequência das palavras a partir de uma string de entrada. \n",
    "A saída deve ser exibida após a classificação alfanumérica da chave.\n",
    "\n",
    "Exemplo:\n",
    "Suponha que o seguinte string de entrada seja fornecida ao programa:\n",
    "```python\n",
    "str_input = 'Novo para Python ou escolher entre Python 2 e Python 3? Leia Python 2 ou Python 3'\n",
    "```\n",
    "Em seguida, a saída do programa deve ser:\n",
    "```\n",
    "2:2\n",
    "3:1\n",
    "3?:1\n",
    "Leia:1\n",
    "Novo:1\n",
    "Python:5\n",
    "e:1\n",
    "entre:1\n",
    "escolher:1\n",
    "ou:2\n",
    "para:1\n",
    "```\n",
    "Sugestões: use um dicionário para guardar os pares (palavra, frequência) ."
   ]
  },
  {
   "cell_type": "code",
   "execution_count": 175,
   "metadata": {
    "colab": {
     "autoexec": {
      "startup": false,
      "wait_interval": 0
     },
     "base_uri": "https://localhost:8080/",
     "height": 204
    },
    "colab_type": "code",
    "executionInfo": {
     "elapsed": 775,
     "status": "ok",
     "timestamp": 1523736847027,
     "user": {
      "displayName": "Marcos Spalenza",
      "photoUrl": "//lh4.googleusercontent.com/-ubw9V6dCnss/AAAAAAAAAAI/AAAAAAAAAv8/s847fsUFaZ8/s50-c-k-no/photo.jpg",
      "userId": "103839117086579837524"
     },
     "user_tz": 180
    },
    "id": "RE4G65T3xpPP",
    "outputId": "5b343983-6ccb-47f2-ddd8-75622f9aad01"
   },
   "outputs": [
    {
     "name": "stdout",
     "output_type": "stream",
     "text": [
      "2:2\n",
      "3:1\n",
      "3?:1\n",
      "Leia:1\n",
      "Novo:1\n",
      "Python:5\n",
      "e:1\n",
      "entre:1\n",
      "escolher:1\n",
      "ou:2\n",
      "para:1\n"
     ]
    }
   ],
   "source": [
    "str_input='Novo para Python ou escolher entre Python 2 e Python 3? Leia Python 2 ou Python 3'\n",
    "\n",
    "data = {}\n",
    "\n",
    "for word in str_input.split():\n",
    "    if word in data.keys():\n",
    "        data[word] = data[word]+1\n",
    "    else:\n",
    "        data[word] = 1\n",
    "\n",
    "for k_ in sorted(data.keys()):\n",
    "    print(k_+\":\"+str(data[k_]))"
   ]
  },
  {
   "cell_type": "markdown",
   "metadata": {
    "colab_type": "text",
    "id": "LZsv9YI7xpPS"
   },
   "source": [
    "### Exe. 3\n",
    "Existem 36 possíveis combinações de dois dados. \n",
    "Usando a soma dos dois dados como a chave, criar um dicionário de todas as combinações de pares possíveis para os dois dados. Evidentemente, cada valor no dicionário deve ser uma lista de tuplas, onde,  cada tupla tem o valor de dois dados."
   ]
  },
  {
   "cell_type": "code",
   "execution_count": 176,
   "metadata": {
    "colab": {
     "autoexec": {
      "startup": false,
      "wait_interval": 0
     },
     "base_uri": "https://localhost:8080/",
     "height": 391
    },
    "colab_type": "code",
    "executionInfo": {
     "elapsed": 634,
     "status": "ok",
     "timestamp": 1523736847793,
     "user": {
      "displayName": "Marcos Spalenza",
      "photoUrl": "//lh4.googleusercontent.com/-ubw9V6dCnss/AAAAAAAAAAI/AAAAAAAAAv8/s847fsUFaZ8/s50-c-k-no/photo.jpg",
      "userId": "103839117086579837524"
     },
     "user_tz": 180
    },
    "id": "HlH-7PnMxpPT",
    "outputId": "3c351bf0-11b6-4755-a25b-f110341e0cdb"
   },
   "outputs": [
    {
     "name": "stdout",
     "output_type": "stream",
     "text": [
      "Soma: 2\n",
      "[1][1]\n",
      "Soma: 3\n",
      "[1][2]\t[2][1]\n",
      "Soma: 4\n",
      "[1][3]\t[2][2]\t[3][1]\n",
      "Soma: 5\n",
      "[1][4]\t[2][3]\t[3][2]\t[4][1]\n",
      "Soma: 6\n",
      "[1][5]\t[2][4]\t[3][3]\t[4][2]\t[5][1]\n",
      "Soma: 7\n",
      "[1][6]\t[2][5]\t[3][4]\t[4][3]\t[5][2]\t[6][1]\n",
      "Soma: 8\n",
      "[2][6]\t[3][5]\t[4][4]\t[5][3]\t[6][2]\n",
      "Soma: 9\n",
      "[3][6]\t[4][5]\t[5][4]\t[6][3]\n",
      "Soma: 10\n",
      "[4][6]\t[5][5]\t[6][4]\n",
      "Soma: 11\n",
      "[5][6]\t[6][5]\n",
      "Soma: 12\n",
      "[6][6]\n"
     ]
    }
   ],
   "source": [
    "from collections import defaultdict\n",
    "dice_dict = defaultdict(list)\n",
    "\n",
    "[dice_dict[d1+d2].append((d1, d2)) for d1, d2 in [(dice1, dice2) for dice1 in range(1, 6+1) for dice2 in range(1, 6+1)]]\n",
    "\n",
    "for key, values in dice_dict.items():\n",
    "    print(\"Soma: \"+str(key))\n",
    "    print(\"\\t\".join([\"[\"+str(d1)+\"][\"+str(d2)+\"]\" for d1, d2 in values]))"
   ]
  },
  {
   "cell_type": "markdown",
   "metadata": {
    "colab_type": "text",
    "id": "L4BvELWZxpPW"
   },
   "source": [
    "### Exe. 4\n",
    "A data do formulário 8-MAR-75 inclui o nome do mês, que deve ser traduzido para um número. \n",
    "Crie um dicionário adequado para decodificar nomes de mês para números. \n",
    "Crie uma função que aceite uma data no formato \"dd-mm-yy\" e devolva uma tupla de (y, m, d)."
   ]
  },
  {
   "cell_type": "code",
   "execution_count": 177,
   "metadata": {
    "colab": {
     "autoexec": {
      "startup": false,
      "wait_interval": 0
     },
     "base_uri": "https://localhost:8080/",
     "height": 34
    },
    "colab_type": "code",
    "executionInfo": {
     "elapsed": 580,
     "status": "ok",
     "timestamp": 1523736848524,
     "user": {
      "displayName": "Marcos Spalenza",
      "photoUrl": "//lh4.googleusercontent.com/-ubw9V6dCnss/AAAAAAAAAAI/AAAAAAAAAv8/s847fsUFaZ8/s50-c-k-no/photo.jpg",
      "userId": "103839117086579837524"
     },
     "user_tz": 180
    },
    "id": "k6div5tmxpPX",
    "outputId": "cfbd28ec-ada5-4eb1-948a-05263dfb50e2"
   },
   "outputs": [
    {
     "name": "stdout",
     "output_type": "stream",
     "text": [
      "Data : ('75', '03', '08')\n"
     ]
    }
   ],
   "source": [
    "MESES = {\"JAN\": \"01\", \"FEV\": \"02\",\"MAR\": \"03\",\"ABR\": \"04\",\"MAI\": \"05\",\"JUN\": \"06\",\"JUL\": \"07\",\"AGO\": \"08\",\"SET\": \"09\",\"OUT\": \"10\",\"NOV\": \"11\",\"DEZ\": \"12\"}\n",
    "\n",
    "def convert_date(date_):\n",
    "    year, month, day = date_.split(\"-\")[::-1]\n",
    "    if int(day) < 10:\n",
    "        day = \"0\"+day\n",
    "    return (year, MESES[month], day)\n",
    "\n",
    "date_input = \"8-MAR-75\"\n",
    "print(\"Data : \"+str(convert_date(date_input)))"
   ]
  },
  {
   "cell_type": "markdown",
   "metadata": {
    "colab_type": "text",
    "id": "nJ54MFtYxpPZ"
   },
   "source": [
    "### Exe. 5\n",
    "\n",
    "Em criptografia, a Cifra de César, também conhecida como cifra de troca, código de César ou troca de César, é uma das mais simples e conhecidas técnicas de criptografia, na qual cada letra do texto é substituída por outra, que se apresenta no alfabeto abaixo dela um número fixo de vezes.\n",
    "Por exemplo, com uma mudança de 3, \n",
    "A seria substituído por D, \n",
    "B se tornaria E, e assim por diante. \n",
    "\n",
    "ROT-13 (\"rotação por 13 posições\") é um exemplo amplamente utilizado de uma cifra de César, onde o deslocamento é 13. \n",
    "Em Python, a chave para ROT-13 pode ser representada por meio do seguinte dicionário:\n",
    "```python\n",
    "key = {'a':'n', 'b':'o', 'c':'p', 'd':'q', 'e':'r', 'f':'s', 'g':'t', 'h':'u', \n",
    "       'i':'v', 'j':'w', 'k':'x', 'l':'y', 'm':'z', 'n':'a', 'o':'b', 'p':'c', \n",
    "       'q':'d', 'r':'e', 's':'f', 't':'g', 'u':'h', 'v':'i', 'w':'j', 'x':'k',\n",
    "       'y':'l', 'z':'m', 'A':'N', 'B':'O', 'C':'P', 'D':'Q', 'E':'R', 'F':'S', \n",
    "       'G':'T', 'H':'U', 'I':'V', 'J':'W', 'K':'X', 'L':'Y', 'M':'Z', 'N':'A', \n",
    "       'O':'B', 'P':'C', 'Q':'D', 'R':'E', 'S':'F', 'T':'G', 'U':'H', 'V':'I', \n",
    "       'W':'J', 'X':'K', 'Y':'L', 'Z':'M'}\n",
    "```\n",
    "Sua tarefa neste exercício é implementar um codificador/decodificador para ROT-13. \n",
    "Depois de terminar, você poderá ler o seguinte mensagem secreto:\n",
    "\n",
    "> _Pnrfne pvcure? V zhpu cersre Pnrfne fnynq\\!_\n",
    "\n",
    "Note que, uma vez que, foi usado o alfabeto em inglês, seu programa será capaz de codificar e decodificar textos escritos em inglês usando ROT-13."
   ]
  },
  {
   "cell_type": "code",
   "execution_count": 178,
   "metadata": {
    "colab": {
     "autoexec": {
      "startup": false,
      "wait_interval": 0
     },
     "base_uri": "https://localhost:8080/",
     "height": 34
    },
    "colab_type": "code",
    "executionInfo": {
     "elapsed": 1015,
     "status": "ok",
     "timestamp": 1523736849705,
     "user": {
      "displayName": "Marcos Spalenza",
      "photoUrl": "//lh4.googleusercontent.com/-ubw9V6dCnss/AAAAAAAAAAI/AAAAAAAAAv8/s847fsUFaZ8/s50-c-k-no/photo.jpg",
      "userId": "103839117086579837524"
     },
     "user_tz": 180
    },
    "id": "HTmSevCZxpPa",
    "outputId": "812099f5-d05f-47ea-b43b-f88b7438c478"
   },
   "outputs": [
    {
     "name": "stdout",
     "output_type": "stream",
     "text": [
      "Caesar cipher? I much prefer Caesar salad!\n"
     ]
    }
   ],
   "source": [
    "ROT_13 = {'a':'n', 'b':'o', 'c':'p', 'd':'q', 'e':'r', 'f':'s', 'g':'t', 'h':'u', \n",
    "       'i':'v', 'j':'w', 'k':'x', 'l':'y', 'm':'z', 'n':'a', 'o':'b', 'p':'c', \n",
    "       'q':'d', 'r':'e', 's':'f', 't':'g', 'u':'h', 'v':'i', 'w':'j', 'x':'k',\n",
    "       'y':'l', 'z':'m', 'A':'N', 'B':'O', 'C':'P', 'D':'Q', 'E':'R', 'F':'S', \n",
    "       'G':'T', 'H':'U', 'I':'V', 'J':'W', 'K':'X', 'L':'Y', 'M':'Z', 'N':'A', \n",
    "       'O':'B', 'P':'C', 'Q':'D', 'R':'E', 'S':'F', 'T':'G', 'U':'H', 'V':'I', \n",
    "       'W':'J', 'X':'K', 'Y':'L', 'Z':'M'}\n",
    "\n",
    "str_input = \"Pnrfne pvcure? V zhpu cersre Pnrfne fnynq!\"\n",
    "\n",
    "print(\"\".join([ROT_13[ch] if ch.isalpha() else ch for ch in str_input]))"
   ]
  },
  {
   "cell_type": "markdown",
   "metadata": {
    "colab_type": "text",
    "id": "EiUxJvcdxpPc"
   },
   "source": [
    "## Exercícios sobre sentenças condicionais e de repetição <a name=\"ExerCondRept\"></a>"
   ]
  },
  {
   "cell_type": "markdown",
   "metadata": {
    "colab_type": "text",
    "id": "ZvgB1WPtxpPe"
   },
   "source": [
    "### Exe. 1\n",
    "Escreva três funções que calculem a soma dos elementos de uma lista, usando a instrução `while`, a instrução `for` e _recursão_."
   ]
  },
  {
   "cell_type": "code",
   "execution_count": 179,
   "metadata": {
    "colab": {
     "autoexec": {
      "startup": false,
      "wait_interval": 0
     },
     "base_uri": "https://localhost:8080/",
     "height": 68
    },
    "colab_type": "code",
    "executionInfo": {
     "elapsed": 543,
     "status": "ok",
     "timestamp": 1523736850346,
     "user": {
      "displayName": "Marcos Spalenza",
      "photoUrl": "//lh4.googleusercontent.com/-ubw9V6dCnss/AAAAAAAAAAI/AAAAAAAAAv8/s847fsUFaZ8/s50-c-k-no/photo.jpg",
      "userId": "103839117086579837524"
     },
     "user_tz": 180
    },
    "id": "can-iez4xpPg",
    "outputId": "493a8fbd-c9ce-456f-94c4-67cd4696f352"
   },
   "outputs": [
    {
     "name": "stdout",
     "output_type": "stream",
     "text": [
      "While Sum: 213\n",
      "For Sum: 213\n",
      "Recursive Sum: 213\n"
     ]
    }
   ],
   "source": [
    "def wh_sum(lst):\n",
    "    i = 0\n",
    "    lstsum_ = 0\n",
    "    while i < len(lst):\n",
    "        lstsum_+=lst[i]\n",
    "        i+=1\n",
    "    return lstsum_\n",
    "\n",
    "def for_sum(lst):\n",
    "    lstsum_ = 0\n",
    "    for item in lst:\n",
    "        lstsum_+=item\n",
    "    return lstsum_\n",
    "\n",
    "def rec_sum(lst, i=0):\n",
    "    if i == len(lst):\n",
    "        return 0\n",
    "    else:\n",
    "        return lst[i]+rec_sum(lst, i=i+1)\n",
    "\n",
    "lst_input = [100, 90, 20, 3]\n",
    "print(\"While Sum: \"+str(wh_sum(lst_input)))\n",
    "print(\"For Sum: \"+str(for_sum(lst_input)))\n",
    "print(\"Recursive Sum: \"+str(rec_sum(lst_input)))"
   ]
  },
  {
   "cell_type": "markdown",
   "metadata": {
    "colab_type": "text",
    "id": "iJT-mOWyxpPi"
   },
   "source": [
    "### Exe. 2\n",
    "Desenvolva um gerador de tabuada, capaz de gerar a tabuada de qualquer número inteiro entre 1 a 10. O usuário deve informar de qual número ele deseja ver a tabuada. A saída deve ser conforme o exemplo abaixo:\n",
    "Tabuada de $5$:\n",
    "$$\n",
    "\\begin{eqnarray}\n",
    "5 \\times 1 &=& 5\\\\\n",
    "5 \\times 2 &=& 10\\\\\n",
    "...\\\\\n",
    "5 \\times 10 &=& 50\n",
    "\\end{eqnarray}\n",
    "$$"
   ]
  },
  {
   "cell_type": "code",
   "execution_count": 180,
   "metadata": {
    "colab": {
     "autoexec": {
      "startup": false,
      "wait_interval": 0
     },
     "base_uri": "https://localhost:8080/",
     "height": 187
    },
    "colab_type": "code",
    "executionInfo": {
     "elapsed": 530,
     "status": "ok",
     "timestamp": 1523736851003,
     "user": {
      "displayName": "Marcos Spalenza",
      "photoUrl": "//lh4.googleusercontent.com/-ubw9V6dCnss/AAAAAAAAAAI/AAAAAAAAAv8/s847fsUFaZ8/s50-c-k-no/photo.jpg",
      "userId": "103839117086579837524"
     },
     "user_tz": 180
    },
    "id": "-cUPRYwLxpPj",
    "outputId": "b8bc13b5-2e58-4cff-808b-b0556ac3f326"
   },
   "outputs": [
    {
     "name": "stdout",
     "output_type": "stream",
     "text": [
      "5 x 1 = 5\n",
      "5 x 2 = 10\n",
      "5 x 3 = 15\n",
      "5 x 4 = 20\n",
      "5 x 5 = 25\n",
      "5 x 6 = 30\n",
      "5 x 7 = 35\n",
      "5 x 8 = 40\n",
      "5 x 9 = 45\n",
      "5 x 10 = 50\n"
     ]
    }
   ],
   "source": [
    "number = 5\n",
    "\n",
    "for i in range(1, 10+1):\n",
    "    print(str(number)+\" x \"+str(i)+\" = \"+str(number*i))\n"
   ]
  },
  {
   "cell_type": "markdown",
   "metadata": {
    "colab_type": "text",
    "id": "cQlBHCBwxpPl"
   },
   "source": [
    "### Exe. 3\n",
    "Escreva um programa que determine todos os números que são divisíveis por 7, mas não são um múltiplo de 5, entre 2000 e 3200 (ambos incluídos).\n",
    "Os números obtidos devem ser impressos em uma seqüência separada por vírgulas em uma única linha."
   ]
  },
  {
   "cell_type": "code",
   "execution_count": 181,
   "metadata": {
    "colab": {
     "autoexec": {
      "startup": false,
      "wait_interval": 0
     },
     "base_uri": "https://localhost:8080/",
     "height": 54
    },
    "colab_type": "code",
    "executionInfo": {
     "elapsed": 580,
     "status": "ok",
     "timestamp": 1523736851698,
     "user": {
      "displayName": "Marcos Spalenza",
      "photoUrl": "//lh4.googleusercontent.com/-ubw9V6dCnss/AAAAAAAAAAI/AAAAAAAAAv8/s847fsUFaZ8/s50-c-k-no/photo.jpg",
      "userId": "103839117086579837524"
     },
     "user_tz": 180
    },
    "id": "jEz0a6DibZkq",
    "outputId": "7b2b65bc-bfe7-498b-9ffa-e376a0d28eba"
   },
   "outputs": [
    {
     "name": "stdout",
     "output_type": "stream",
     "text": [
      "2002, 2009, 2016, 2023, 2037, 2044, 2051, 2058, 2072, 2079, 2086, 2093, 2107, 2114, 2121, 2128, 2142, 2149, 2156, 2163, 2177, 2184, 2191, 2198, 2212, 2219, 2226, 2233, 2247, 2254, 2261, 2268, 2282, 2289, 2296, 2303, 2317, 2324, 2331, 2338, 2352, 2359, 2366, 2373, 2387, 2394, 2401, 2408, 2422, 2429, 2436, 2443, 2457, 2464, 2471, 2478, 2492, 2499, 2506, 2513, 2527, 2534, 2541, 2548, 2562, 2569, 2576, 2583, 2597, 2604, 2611, 2618, 2632, 2639, 2646, 2653, 2667, 2674, 2681, 2688, 2702, 2709, 2716, 2723, 2737, 2744, 2751, 2758, 2772, 2779, 2786, 2793, 2807, 2814, 2821, 2828, 2842, 2849, 2856, 2863, 2877, 2884, 2891, 2898, 2912, 2919, 2926, 2933, 2947, 2954, 2961, 2968, 2982, 2989, 2996, 3003, 3017, 3024, 3031, 3038, 3052, 3059, 3066, 3073, 3087, 3094, 3101, 3108, 3122, 3129, 3136, 3143, 3157, 3164, 3171, 3178, 3192, 3199\n"
     ]
    }
   ],
   "source": [
    "init = 2000\n",
    "end = 3200\n",
    "print(\", \".join([str(i) for i in range(init, end+1) if i % 5 != 0 and i % 7 == 0]))\n",
    "    "
   ]
  },
  {
   "cell_type": "markdown",
   "metadata": {
    "colab_type": "text",
    "id": "P_aW9t69xpPm"
   },
   "source": [
    "### Exe.4\n",
    "Escreva um programa, que determine todos os números entre 1000 e 3000 (ambos incluídos), de tal forma que, cada dígito de número é um número par.\n",
    "Os números obtidos devem ser impressos em uma seqüência separada por vírgulas em uma única linha."
   ]
  },
  {
   "cell_type": "code",
   "execution_count": 182,
   "metadata": {
    "colab": {
     "autoexec": {
      "startup": false,
      "wait_interval": 0
     },
     "base_uri": "https://localhost:8080/",
     "height": 54
    },
    "colab_type": "code",
    "executionInfo": {
     "elapsed": 520,
     "status": "ok",
     "timestamp": 1523736852338,
     "user": {
      "displayName": "Marcos Spalenza",
      "photoUrl": "//lh4.googleusercontent.com/-ubw9V6dCnss/AAAAAAAAAAI/AAAAAAAAAv8/s847fsUFaZ8/s50-c-k-no/photo.jpg",
      "userId": "103839117086579837524"
     },
     "user_tz": 180
    },
    "id": "W-NWYLK6xpPn",
    "outputId": "d34c3555-08f6-4222-d708-7ccb0a8d176a"
   },
   "outputs": [
    {
     "name": "stdout",
     "output_type": "stream",
     "text": [
      "2000,2002,2004,2006,2008,2020,2022,2024,2026,2028,2040,2042,2044,2046,2048,2060,2062,2064,2066,2068,2080,2082,2084,2086,2088,2200,2202,2204,2206,2208,2220,2222,2224,2226,2228,2240,2242,2244,2246,2248,2260,2262,2264,2266,2268,2280,2282,2284,2286,2288,2400,2402,2404,2406,2408,2420,2422,2424,2426,2428,2440,2442,2444,2446,2448,2460,2462,2464,2466,2468,2480,2482,2484,2486,2488,2600,2602,2604,2606,2608,2620,2622,2624,2626,2628,2640,2642,2644,2646,2648,2660,2662,2664,2666,2668,2680,2682,2684,2686,2688,2800,2802,2804,2806,2808,2820,2822,2824,2826,2828,2840,2842,2844,2846,2848,2860,2862,2864,2866,2868,2880,2882,2884,2886,2888\n"
     ]
    }
   ],
   "source": [
    "init = 1000\n",
    "end = 3000\n",
    "lst_numbers = []\n",
    "for number in range(init, end+1):\n",
    "    nbr_ = str(number)\n",
    "    if False not in [True if int(digit) % 2 == 0 else False for digit in nbr_]:\n",
    "        lst_numbers.append(nbr_)\n",
    "print(\",\".join(lst_numbers))"
   ]
  },
  {
   "cell_type": "markdown",
   "metadata": {
    "colab_type": "text",
    "id": "f6ERRrP-xpPp"
   },
   "source": [
    "### Exe. 5\n",
    "Faça um programa que mostre os números potência de 2 menores de 10000 da seguinte forma:\n",
    "```\n",
    "0001\n",
    "0002\n",
    "0004\n",
    "0008\n",
    "...\n",
    "8192\n",
    "```"
   ]
  },
  {
   "cell_type": "code",
   "execution_count": 183,
   "metadata": {
    "colab": {
     "autoexec": {
      "startup": false,
      "wait_interval": 0
     },
     "base_uri": "https://localhost:8080/",
     "height": 255
    },
    "colab_type": "code",
    "executionInfo": {
     "elapsed": 587,
     "status": "ok",
     "timestamp": 1523736853070,
     "user": {
      "displayName": "Marcos Spalenza",
      "photoUrl": "//lh4.googleusercontent.com/-ubw9V6dCnss/AAAAAAAAAAI/AAAAAAAAAv8/s847fsUFaZ8/s50-c-k-no/photo.jpg",
      "userId": "103839117086579837524"
     },
     "user_tz": 180
    },
    "id": "ecafQsgVxpPq",
    "outputId": "b1029942-1266-4d27-c1b8-6f5969e71b32"
   },
   "outputs": [
    {
     "name": "stdout",
     "output_type": "stream",
     "text": [
      "0001\n",
      "0002\n",
      "0004\n",
      "0008\n",
      "0016\n",
      "0032\n",
      "0064\n",
      "0128\n",
      "0256\n",
      "0512\n",
      "1024\n",
      "2048\n",
      "4096\n",
      "8192\n"
     ]
    }
   ],
   "source": [
    "import math\n",
    "\n",
    "result = 0\n",
    "i = 0\n",
    "while math.pow(2, i) < 10000:\n",
    "    print('%0*d'%(4, math.pow(2, i)))\n",
    "    i+=1\n",
    "    \n",
    "    "
   ]
  },
  {
   "cell_type": "markdown",
   "metadata": {
    "colab_type": "text",
    "id": "n4zCfrtjxpPt"
   },
   "source": [
    "## Exercícios de Programação <a name=\"ExerProgramacao\"></a>"
   ]
  },
  {
   "cell_type": "markdown",
   "metadata": {
    "colab_type": "text",
    "id": "lRsnOJ8NxpPu"
   },
   "source": [
    "### Exe. 1\n",
    "Faça um programa que leia um número inteiro menor que 1000 e imprima a quantidade de centenas, dezenas e unidades do mesmo. Observando os termos no plural a colocação do “e”, da vírgula entre outros.\n",
    "\n",
    "Exemplo:\n",
    "* 326 = 3 centenas, 2 dezenas e 6 unidades\n",
    "* 12 = 1 dezena e 2 unidades\n",
    "\n",
    "Testar com: 326, 300, 100, 320, 310,305, 301, 101, 311, 111, 25, 20, 10, 21, 11, 1, 7 e 16 \n"
   ]
  },
  {
   "cell_type": "code",
   "execution_count": 184,
   "metadata": {
    "colab": {
     "autoexec": {
      "startup": false,
      "wait_interval": 0
     },
     "base_uri": "https://localhost:8080/",
     "height": 323
    },
    "colab_type": "code",
    "executionInfo": {
     "elapsed": 678,
     "status": "ok",
     "timestamp": 1523736853848,
     "user": {
      "displayName": "Marcos Spalenza",
      "photoUrl": "//lh4.googleusercontent.com/-ubw9V6dCnss/AAAAAAAAAAI/AAAAAAAAAv8/s847fsUFaZ8/s50-c-k-no/photo.jpg",
      "userId": "103839117086579837524"
     },
     "user_tz": 180
    },
    "id": "ZBs1jjuqxpPu",
    "outputId": "4fc791bb-9e49-4edb-f055-c5c3d776ac44"
   },
   "outputs": [
    {
     "name": "stdout",
     "output_type": "stream",
     "text": [
      "326 = 3 centenas, 2 dezenas e 6 unidades.\n",
      "300 = 3 centenas.\n",
      "100 = 1 centena.\n",
      "320 = 3 centenas e 2 dezenas.\n",
      "310 = 3 centenas e 1 dezena.\n",
      "305 = 3 centenas e 5 unidades.\n",
      "301 = 3 centenas e 1 unidade.\n",
      "101 = 1 centena e 1 unidade.\n",
      "311 = 3 centenas, 1 dezena e 1 unidade.\n",
      "111 = 1 centena, 1 dezena e 1 unidade.\n",
      "25 = 2 dezenas e 5 unidades.\n",
      "20 = 2 dezenas.\n",
      "10 = 1 dezena.\n",
      "21 = 2 dezenas e 1 unidade.\n",
      "11 = 1 dezena e 1 unidade.\n",
      "1 = 1 unidade.\n",
      "7 = 7 unidades.\n",
      "16 = 1 dezena e 6 unidades.\n"
     ]
    }
   ],
   "source": [
    "values = [326, 300, 100, 320, 310,305, 301, 101, 311, 111, 25, 20, 10, 21, 11, 1, 7, 16]\n",
    "\n",
    "def decomp(str_num):\n",
    "    return [str_num[chid] for chid in range(len(str_num))]\n",
    "    \n",
    "for val in values:\n",
    "    out = \"\"\n",
    "    lst_rtn = decomp(str(val))\n",
    "    \n",
    "    while len(lst_rtn) > 0:\n",
    "        level = \"\"\n",
    "        if len(lst_rtn) % 3 == 0:\n",
    "            level = \"centena\"\n",
    "        elif (len(lst_rtn) % 3) % 2 == 0:\n",
    "            level = \"dezena\"\n",
    "        else:\n",
    "            level = \"unidade\"\n",
    "        \n",
    "        if int(lst_rtn[0]) != 0:\n",
    "            if out != \"\":\n",
    "                if len([d for d in lst_rtn[1:] if d != \"0\"]) == 0:\n",
    "                    out = out+\" e \"\n",
    "                else:\n",
    "                    out = out+\", \"\n",
    "            \n",
    "            if int(lst_rtn[0]) > 1:\n",
    "                out = out + lst_rtn[0]+\" \"+level+\"s\"\n",
    "            elif int(lst_rtn[0]) == 1:\n",
    "                out = out + lst_rtn[0]+\" \"+level\n",
    "\n",
    "        lst_rtn = lst_rtn[1:]\n",
    "\n",
    "    print(str(val)+\" = \"+out+\".\")"
   ]
  },
  {
   "cell_type": "markdown",
   "metadata": {
    "colab_type": "text",
    "id": "axiCWbetxpPx"
   },
   "source": [
    "### Exe. 2\n",
    "Faça um programa que mostre os $n$ termos da Série a seguir: \n",
    "$$\n",
    "S = \\frac{1}{1} + \\frac{2}{3} + \\frac{3}{5} + \\frac{4}{7} + \\frac{5}{9} + ... + \\frac{n}{m}. \n",
    "$$\n",
    "Imprima no final a soma da série. "
   ]
  },
  {
   "cell_type": "code",
   "execution_count": 185,
   "metadata": {
    "colab": {
     "autoexec": {
      "startup": false,
      "wait_interval": 0
     },
     "base_uri": "https://localhost:8080/",
     "height": 51
    },
    "colab_type": "code",
    "executionInfo": {
     "elapsed": 542,
     "status": "ok",
     "timestamp": 1523736854485,
     "user": {
      "displayName": "Marcos Spalenza",
      "photoUrl": "//lh4.googleusercontent.com/-ubw9V6dCnss/AAAAAAAAAAI/AAAAAAAAAv8/s847fsUFaZ8/s50-c-k-no/photo.jpg",
      "userId": "103839117086579837524"
     },
     "user_tz": 180
    },
    "id": "cxav2c7gxpPx",
    "outputId": "0a9b3dea-7cb6-47c9-c1ba-badb7101e688"
   },
   "outputs": [
    {
     "name": "stdout",
     "output_type": "stream",
     "text": [
      "S = 1/1 + 2/3 + 3/5 + 4/7 + 5/9 + 6/11 + 7/13 + 8/15 + 9/17 + 10/19\n",
      "S = 3971997585/654729075 = 6.066627765079778\n"
     ]
    }
   ],
   "source": [
    "from functools import reduce\n",
    "\n",
    "max_n = 10\n",
    "\n",
    "m = 1\n",
    "lst_frac = []\n",
    "for n in range(1, max_n+1):\n",
    "    lst_frac.append((n,m))\n",
    "    m = m+2\n",
    "\n",
    "print(\"S = \"+\" + \".join([str(n_)+\"/\"+str(m_) for n_, m_ in lst_frac]))\n",
    "\n",
    "# print(sum([n_/m_ for n_, m_ in lst_frac])) soma das divisões\n",
    "\n",
    "mult = reduce(lambda x, y: x*y, [m_ for n_, m_ in lst_frac])\n",
    "\n",
    "\n",
    "# normalizacao dos quocientes\n",
    "lst_frac = [(int(n_*(mult/m_)), mult) for n_, m_ in lst_frac]\n",
    "\n",
    "# print(\"S = \"+\" + \".join([str(n_)+\"/\"+str(m_) for n_, m_ in lst_frac]))\n",
    "\n",
    "print(\"S = \"+str(sum([n_ for n_, m_ in lst_frac]))+\"/\"+str(mult)+\" = \"+str(sum([n_ for n_, m_ in lst_frac])/mult))"
   ]
  },
  {
   "cell_type": "markdown",
   "metadata": {
    "colab_type": "text",
    "id": "mdJyzEMxxpP1"
   },
   "source": [
    "### Exe. 3\n",
    "Escreva uma função que, dada uma lista de inteiros não negativos, organize seus elementos de tal forma que eles formem o maior número possível. Por exemplo, dado [50, 2, 1, 9], o maior número formado é 95021."
   ]
  },
  {
   "cell_type": "code",
   "execution_count": 186,
   "metadata": {
    "colab": {
     "autoexec": {
      "startup": false,
      "wait_interval": 0
     },
     "base_uri": "https://localhost:8080/",
     "height": 34
    },
    "colab_type": "code",
    "executionInfo": {
     "elapsed": 541,
     "status": "ok",
     "timestamp": 1523736855135,
     "user": {
      "displayName": "Marcos Spalenza",
      "photoUrl": "//lh4.googleusercontent.com/-ubw9V6dCnss/AAAAAAAAAAI/AAAAAAAAAv8/s847fsUFaZ8/s50-c-k-no/photo.jpg",
      "userId": "103839117086579837524"
     },
     "user_tz": 180
    },
    "id": "-IfdXaZExpP2",
    "outputId": "89098b8b-66f8-4215-d715-17db9edf0b07"
   },
   "outputs": [
    {
     "name": "stdout",
     "output_type": "stream",
     "text": [
      "95021\n"
     ]
    }
   ],
   "source": [
    "lst_numb = [50, 2, 1, 9]\n",
    "print(int(\"\".join(sorted([str(num) for num in lst_numb], reverse=True))))"
   ]
  },
  {
   "cell_type": "markdown",
   "metadata": {
    "colab_type": "text",
    "id": "cT_b6WwCxpP3"
   },
   "source": [
    "### Exe. 4\n",
    "Escreva um programa que imprima todas as possibilidades para colocar + ou - ou nada entre os números 1, 2, ..., 9 (nesta ordem) de forma que o resultado seja sempre 100. Por exemplo: 1 + 2 + 34 - 5 + 67 - 8 + 9 = 100."
   ]
  },
  {
   "cell_type": "code",
   "execution_count": 187,
   "metadata": {
    "colab": {
     "autoexec": {
      "startup": false,
      "wait_interval": 0
     },
     "base_uri": "https://localhost:8080/",
     "height": 153
    },
    "colab_type": "code",
    "executionInfo": {
     "elapsed": 773,
     "status": "ok",
     "timestamp": 1523736856015,
     "user": {
      "displayName": "Marcos Spalenza",
      "photoUrl": "//lh4.googleusercontent.com/-ubw9V6dCnss/AAAAAAAAAAI/AAAAAAAAAv8/s847fsUFaZ8/s50-c-k-no/photo.jpg",
      "userId": "103839117086579837524"
     },
     "user_tz": 180
    },
    "id": "uFtEMz2IxpP3",
    "outputId": "1c64c7fb-3b64-4456-a523-137f252dec68"
   },
   "outputs": [
    {
     "name": "stdout",
     "output_type": "stream",
     "text": [
      "4 9\n",
      "1+2+34-5+67-8+9 = 100\n",
      "1+23-4+5+6+78-9 = 100\n",
      "1+23-4+56+7+8+9 = 100\n",
      "12+3+4+5-6-7+89 = 100\n",
      "12-3-4+5-6+7+89 = 100\n",
      "12+3-4+5+67+8+9 = 100\n",
      "1+2+3-4+5+6+78+9 = 100\n"
     ]
    }
   ],
   "source": [
    "from itertools import combinations, product\n",
    "import numpy as np\n",
    "\n",
    "str_input = [\"1\", \"2\", \"3\", \"4\", \"5\", \"6\", \"7\", \"8\", \"9\"]\n",
    "\n",
    "objective = 100\n",
    "operations = [\"+\", \"-\"]\n",
    "maxnum = len(str(objective)) # len == objective just if len(objective) > len(objective-1)\n",
    "\n",
    "numbers = []\n",
    "for step in range(1, maxnum):\n",
    "     [numbers.append(str_input[i:i+step]) for i in range(len(str_input)) if str_input[i:i+step] not in numbers]\n",
    "\n",
    "# str numbers to int\n",
    "numbers = [\"\".join(n) for n in numbers]\n",
    "\n",
    "comb = []\n",
    "print(int(len(str_input)/(maxnum-1)), len(str_input))\n",
    "for i in range(int(len(str_input)/(maxnum-1)), len(str_input)):\n",
    "    [comb.append(\" \".join(sorted(c))) for c in combinations(numbers, i) if False not in [val in \" \".join(c) for val in str_input]]\n",
    "\n",
    "comb = [c_ for c_ in comb if c_.replace(\" \", \"\") == \"\".join(str_input)]\n",
    "\n",
    "for c in comb:\n",
    "    for sign in [\"\".join(seq) for seq in product(\"+-\", repeat=len([True for c_ in c if c_ == \" \"]))]:\n",
    "        equation = \"\"\n",
    "        for idx in range(len(sign)):\n",
    "            equation += c.split()[idx]+sign[idx]\n",
    "        equation += c.split()[-1]\n",
    "        result = eval(equation)\n",
    "        if result == 100:\n",
    "            print(equation+\" = \"+str(result))"
   ]
  },
  {
   "cell_type": "markdown",
   "metadata": {
    "colab_type": "text",
    "id": "HLjooK7rxpP5"
   },
   "source": [
    "### Exe. 5\n",
    "Um site exige que para se registrar os usuários devem inserir o nome de usuário e a senha. \n",
    "Escreva um programa para verificar a validade da entrada da senha do usuário, considerando os seguintes critérios:\n",
    "1. Pelo menos 1 letra minúscula entre \\[a-z\\]\n",
    "1. Pelo menos 1 número entre \\[0-9\\]\n",
    "1. Pelo menos uma letra maiúscula entre \\[A-Z\\]\n",
    "1. Pelo menos 1 caractere de \\[\\$ \\# \\@\\]\n",
    "1. Comprimento mínimo da senha: 6\n",
    "1. Comprimento máximo da senha: 12\n",
    "\n",
    "<br/> Seu programa deve aceitar uma seqüência de senhas separadas por vírgulas e verificá-las de acordo com os critérios acima. As senhas que correspondem aos critérios devem ser impressas, cada uma separada por uma vírgula.\n",
    "\n",
    "<br/> Exemplo.\n",
    "<br/> Se as seguintes senhas são dadas como entrada para o programa:\n",
    "<br/> ABd1234 @ 1, um F1 #, 2w3E *, 2We3345\n",
    "<br/> Em seguida, a saída do programa deve ser:\n",
    "<br/> ABd1234 @ 1"
   ]
  },
  {
   "cell_type": "code",
   "execution_count": 188,
   "metadata": {
    "colab": {
     "autoexec": {
      "startup": false,
      "wait_interval": 0
     },
     "base_uri": "https://localhost:8080/",
     "height": 34
    },
    "colab_type": "code",
    "executionInfo": {
     "elapsed": 564,
     "status": "ok",
     "timestamp": 1523736856648,
     "user": {
      "displayName": "Marcos Spalenza",
      "photoUrl": "//lh4.googleusercontent.com/-ubw9V6dCnss/AAAAAAAAAAI/AAAAAAAAAv8/s847fsUFaZ8/s50-c-k-no/photo.jpg",
      "userId": "103839117086579837524"
     },
     "user_tz": 180
    },
    "id": "WwwlMFZuxpP6",
    "outputId": "f7a8c25a-5c5f-4992-d41f-b09f26d4219a"
   },
   "outputs": [
    {
     "name": "stdout",
     "output_type": "stream",
     "text": [
      "ABd1234 @ 1\n"
     ]
    }
   ],
   "source": [
    "import string\n",
    "\n",
    "def check_pass(passwd):\n",
    "    for digit in passwd:\n",
    "        if digit in string.ascii_lowercase:\n",
    "            yield \"low\"\n",
    "        elif digit in string.ascii_uppercase:\n",
    "            yield \"upp\"\n",
    "        elif digit in string.digits:\n",
    "            yield \"num\"\n",
    "        elif digit in ['$', '#', '@']:\n",
    "            yield \"lst\"\n",
    "        else:\n",
    "            yield None\n",
    "\n",
    "\"\"\"\n",
    "print(\"Digite os padrões de senha para serem avaliados: Ex.: ABd1234 @ 1, um F1 #, 2w3E *, 2We3345 \")\n",
    "input_str = input()\n",
    "passwords = input_str.split(\",\")\n",
    "\"\"\"\n",
    "\n",
    "passwords = \"ABd1234 @ 1, um F1 #, 2w3E *, 2We3345\".split(\",\")\n",
    "required = [\"low\", \"upp\", \"num\", \"lst\"]\n",
    "for p in passwords:\n",
    "    if len(p.replace(\" \",\"\")) > 6 and len(p.replace(\" \",\"\")) < 12:\n",
    "        chk = [ck for ck in check_pass(p)]\n",
    "        if False not in [r in chk for r in required]:\n",
    "            print(p)"
   ]
  },
  {
   "cell_type": "markdown",
   "metadata": {
    "colab_type": "text",
    "id": "jYM-n1HqxpP8"
   },
   "source": [
    "### Exe. 6\n",
    "Um robô se move num plano partindo do ponto original (0,0). \n",
    "O robô pode-se mover nas direções ACIMA, ABAIXO, ESQUERDA e DIREITA, tal que, em cada direção pode-se deslocar um número determinado de passos. \n",
    "Por exemplo, podemos descrever o movimento do robô como:\n",
    "<br/>UP 5\n",
    "<br/>DOWN 3\n",
    "<br/>ESQUERDA 3\n",
    "<br/>RIGHT 2\n",
    "<br/>Onde, os números após a direção são os passos. \n",
    "\n",
    "Escreva um programa para calcular a distância da posição atual após uma seqüência de movimento a partir do ponto original.\n",
    "Se a distância for um float, basta imprimir o número inteiro mais próximo.\n",
    "\n",
    "<br/> Exemplo:\n",
    "<br/> Se as seguintes tuplas são dadas como entrada para o programa:\n",
    "<br/> [('UP',5),('DOWN',3),('ESQUERDA',3),('RIGHT',2)]\n",
    "<br/> Em seguida, a saída do programa deve ser:\n",
    "<br/> 3"
   ]
  },
  {
   "cell_type": "code",
   "execution_count": 189,
   "metadata": {
    "cellView": "code",
    "colab": {
     "autoexec": {
      "startup": false,
      "wait_interval": 0
     },
     "base_uri": "https://localhost:8080/",
     "height": 34
    },
    "colab_type": "code",
    "executionInfo": {
     "elapsed": 572,
     "status": "ok",
     "timestamp": 1523736857351,
     "user": {
      "displayName": "Marcos Spalenza",
      "photoUrl": "//lh4.googleusercontent.com/-ubw9V6dCnss/AAAAAAAAAAI/AAAAAAAAAv8/s847fsUFaZ8/s50-c-k-no/photo.jpg",
      "userId": "103839117086579837524"
     },
     "user_tz": 180
    },
    "id": "lOffhAwjYxWz",
    "outputId": "07e98079-6bf6-46f5-875a-e50cc09fbeeb"
   },
   "outputs": [
    {
     "name": "stdout",
     "output_type": "stream",
     "text": [
      "3\n"
     ]
    }
   ],
   "source": [
    "#@title Default title text\n",
    "from scipy.spatial.distance import euclidean\n",
    "import math\n",
    "\n",
    "# print(\"Digite a movimentação do robo: Ex.: ACIMA-5, ABAIXO-3, ESQUERDA-3, DIREITA-2\")\n",
    "# input_str = input()\n",
    "# moviment = [(i.split(\"-\")[0].strip(), int(i.split(\"-\")[1])) for i in input_str.split(\",\")]\n",
    "moviment = [('ACIMA',5),('ABAIXO',3),('ESQUERDA',3),('DIREITA',2)]\n",
    "\n",
    "init = (0, 0)\n",
    "end = (0, 0)\n",
    "\n",
    "for direct, move in moviment:\n",
    "    if direct.upper() == \"ACIMA\":\n",
    "        end = (end[0]+move, end[1])\n",
    "    elif direct.upper() == \"ABAIXO\":\n",
    "        end = (end[0]-move, end[1])\n",
    "    elif direct.upper() == \"ESQUERDA\":\n",
    "        end = (end[0], end[1]-move)\n",
    "    elif direct.upper() == \"DIREITA\":\n",
    "        end = (end[0], end[1]+move)\n",
    "\n",
    "#print(str(init)+\" >>> \"+str(end)+\": Total distance \"+str(math.ceil(euclidean(init, end))))\n",
    "print(math.ceil(euclidean(init, end)))"
   ]
  }
 ],
 "metadata": {
  "colab": {
   "collapsed_sections": [
    "HLjooK7rxpP5",
    "jYM-n1HqxpP8"
   ],
   "default_view": {},
   "name": "Lista_1Python.ipynb",
   "provenance": [],
   "version": "0.3.2",
   "views": {}
  },
  "kernelspec": {
   "display_name": "Python 3 (ipykernel)",
   "language": "python",
   "name": "python3"
  },
  "language_info": {
   "codemirror_mode": {
    "name": "ipython",
    "version": 3
   },
   "file_extension": ".py",
   "mimetype": "text/x-python",
   "name": "python",
   "nbconvert_exporter": "python",
   "pygments_lexer": "ipython3",
   "version": "3.8.10"
  }
 },
 "nbformat": 4,
 "nbformat_minor": 4
}
